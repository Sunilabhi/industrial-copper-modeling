{
  "cells": [
    {
      "cell_type": "markdown",
      "metadata": {
        "id": "EqG6nJL3ItCm"
      },
      "source": [
        "# import libraries"
      ]
    },
    {
      "cell_type": "code",
      "execution_count": 3,
      "metadata": {
        "id": "6SAfRm2NiDAs"
      },
      "outputs": [],
      "source": [
        "import pandas as pd\n",
        "import numpy as np\n",
        "import xlrd\n",
        "import seaborn as sns\n",
        "import matplotlib.pyplot as plt\n",
        "import warnings\n",
        "warnings.filterwarnings(\"ignore\")\n"
      ]
    },
    {
      "cell_type": "code",
      "execution_count": 4,
      "metadata": {
        "id": "dxBzY90BgkdW"
      },
      "outputs": [],
      "source": [
        "#mounding google drive\n",
        "#from google.colab import drive\n",
        "#drive.mount('/content/drive')"
      ]
    },
    {
      "cell_type": "markdown",
      "metadata": {
        "id": "XulxDEfWI0qi"
      },
      "source": [
        "# load dataset"
      ]
    },
    {
      "cell_type": "code",
      "execution_count": 5,
      "metadata": {
        "colab": {
          "base_uri": "https://localhost:8080/",
          "height": 486
        },
        "id": "La_f7kOYh_uU",
        "outputId": "274e832a-02ed-4190-fe00-bf2e621a6123"
      },
      "outputs": [
        {
          "data": {
            "text/html": [
              "<div>\n",
              "<style scoped>\n",
              "    .dataframe tbody tr th:only-of-type {\n",
              "        vertical-align: middle;\n",
              "    }\n",
              "\n",
              "    .dataframe tbody tr th {\n",
              "        vertical-align: top;\n",
              "    }\n",
              "\n",
              "    .dataframe thead th {\n",
              "        text-align: right;\n",
              "    }\n",
              "</style>\n",
              "<table border=\"1\" class=\"dataframe\">\n",
              "  <thead>\n",
              "    <tr style=\"text-align: right;\">\n",
              "      <th></th>\n",
              "      <th>id</th>\n",
              "      <th>item_date</th>\n",
              "      <th>quantity tons</th>\n",
              "      <th>customer</th>\n",
              "      <th>country</th>\n",
              "      <th>status</th>\n",
              "      <th>item type</th>\n",
              "      <th>application</th>\n",
              "      <th>thickness</th>\n",
              "      <th>width</th>\n",
              "      <th>material_ref</th>\n",
              "      <th>product_ref</th>\n",
              "      <th>delivery date</th>\n",
              "      <th>selling_price</th>\n",
              "    </tr>\n",
              "  </thead>\n",
              "  <tbody>\n",
              "    <tr>\n",
              "      <th>0</th>\n",
              "      <td>EC06F063-9DF0-440C-8764-0B0C05A4F6AE</td>\n",
              "      <td>20210401.0</td>\n",
              "      <td>54.151139</td>\n",
              "      <td>30156308.0</td>\n",
              "      <td>28.0</td>\n",
              "      <td>Won</td>\n",
              "      <td>W</td>\n",
              "      <td>10.0</td>\n",
              "      <td>2.00</td>\n",
              "      <td>1500.0</td>\n",
              "      <td>DEQ1 S460MC</td>\n",
              "      <td>1670798778</td>\n",
              "      <td>20210701.0</td>\n",
              "      <td>854.00</td>\n",
              "    </tr>\n",
              "    <tr>\n",
              "      <th>1</th>\n",
              "      <td>4E5F4B3D-DDDF-499D-AFDE-A3227EC49425</td>\n",
              "      <td>20210401.0</td>\n",
              "      <td>768.024839</td>\n",
              "      <td>30202938.0</td>\n",
              "      <td>25.0</td>\n",
              "      <td>Won</td>\n",
              "      <td>W</td>\n",
              "      <td>41.0</td>\n",
              "      <td>0.80</td>\n",
              "      <td>1210.0</td>\n",
              "      <td>0000000000000000000000000000000000104991</td>\n",
              "      <td>1668701718</td>\n",
              "      <td>20210401.0</td>\n",
              "      <td>1047.00</td>\n",
              "    </tr>\n",
              "    <tr>\n",
              "      <th>2</th>\n",
              "      <td>E140FF1B-2407-4C02-A0DD-780A093B1158</td>\n",
              "      <td>20210401.0</td>\n",
              "      <td>386.127949</td>\n",
              "      <td>30153963.0</td>\n",
              "      <td>30.0</td>\n",
              "      <td>Won</td>\n",
              "      <td>WI</td>\n",
              "      <td>28.0</td>\n",
              "      <td>0.38</td>\n",
              "      <td>952.0</td>\n",
              "      <td>S0380700</td>\n",
              "      <td>628377</td>\n",
              "      <td>20210101.0</td>\n",
              "      <td>644.33</td>\n",
              "    </tr>\n",
              "    <tr>\n",
              "      <th>3</th>\n",
              "      <td>F8D507A0-9C62-4EFE-831E-33E1DA53BB50</td>\n",
              "      <td>20210401.0</td>\n",
              "      <td>202.411065</td>\n",
              "      <td>30349574.0</td>\n",
              "      <td>32.0</td>\n",
              "      <td>Won</td>\n",
              "      <td>S</td>\n",
              "      <td>59.0</td>\n",
              "      <td>2.30</td>\n",
              "      <td>1317.0</td>\n",
              "      <td>DX51D+ZM310MAO 2.3X1317</td>\n",
              "      <td>1668701718</td>\n",
              "      <td>20210101.0</td>\n",
              "      <td>768.00</td>\n",
              "    </tr>\n",
              "    <tr>\n",
              "      <th>4</th>\n",
              "      <td>4E1C4E78-152B-430A-8094-ADD889C9D0AD</td>\n",
              "      <td>20210401.0</td>\n",
              "      <td>785.526262</td>\n",
              "      <td>30211560.0</td>\n",
              "      <td>28.0</td>\n",
              "      <td>Won</td>\n",
              "      <td>W</td>\n",
              "      <td>10.0</td>\n",
              "      <td>4.00</td>\n",
              "      <td>2000.0</td>\n",
              "      <td>2_S275JR+AR-CL1</td>\n",
              "      <td>640665</td>\n",
              "      <td>20210301.0</td>\n",
              "      <td>577.00</td>\n",
              "    </tr>\n",
              "  </tbody>\n",
              "</table>\n",
              "</div>"
            ],
            "text/plain": [
              "                                     id   item_date quantity tons    customer  \\\n",
              "0  EC06F063-9DF0-440C-8764-0B0C05A4F6AE  20210401.0     54.151139  30156308.0   \n",
              "1  4E5F4B3D-DDDF-499D-AFDE-A3227EC49425  20210401.0    768.024839  30202938.0   \n",
              "2  E140FF1B-2407-4C02-A0DD-780A093B1158  20210401.0    386.127949  30153963.0   \n",
              "3  F8D507A0-9C62-4EFE-831E-33E1DA53BB50  20210401.0    202.411065  30349574.0   \n",
              "4  4E1C4E78-152B-430A-8094-ADD889C9D0AD  20210401.0    785.526262  30211560.0   \n",
              "\n",
              "   country status item type  application  thickness   width  \\\n",
              "0     28.0    Won         W         10.0       2.00  1500.0   \n",
              "1     25.0    Won         W         41.0       0.80  1210.0   \n",
              "2     30.0    Won        WI         28.0       0.38   952.0   \n",
              "3     32.0    Won         S         59.0       2.30  1317.0   \n",
              "4     28.0    Won         W         10.0       4.00  2000.0   \n",
              "\n",
              "                               material_ref  product_ref  delivery date  \\\n",
              "0                               DEQ1 S460MC   1670798778     20210701.0   \n",
              "1  0000000000000000000000000000000000104991   1668701718     20210401.0   \n",
              "2                                  S0380700       628377     20210101.0   \n",
              "3                   DX51D+ZM310MAO 2.3X1317   1668701718     20210101.0   \n",
              "4                           2_S275JR+AR-CL1       640665     20210301.0   \n",
              "\n",
              "   selling_price  \n",
              "0         854.00  \n",
              "1        1047.00  \n",
              "2         644.33  \n",
              "3         768.00  \n",
              "4         577.00  "
            ]
          },
          "execution_count": 5,
          "metadata": {},
          "output_type": "execute_result"
        }
      ],
      "source": [
        "pd.set_option(\"display.max_columns\",None)\n",
        "df=pd.read_excel(\"Copper_Set.xlsx\")\n",
        "#df=pd.read_excel(\"/content/drive/MyDrive/Colab Notebooks/Copper_Set.xlsx\")\n",
        "df.head()"
      ]
    },
    {
      "cell_type": "code",
      "execution_count": 6,
      "metadata": {
        "id": "2YorIBFXqJsD"
      },
      "outputs": [],
      "source": [
        "df1=df.copy()"
      ]
    },
    {
      "cell_type": "code",
      "execution_count": 7,
      "metadata": {
        "colab": {
          "base_uri": "https://localhost:8080/"
        },
        "id": "AhfAtrk7U1de",
        "outputId": "aa990f15-6a9f-45d0-94cb-9bc26e1d7af1"
      },
      "outputs": [
        {
          "data": {
            "text/plain": [
              "(181673, 14)"
            ]
          },
          "execution_count": 7,
          "metadata": {},
          "output_type": "execute_result"
        }
      ],
      "source": [
        "df1.shape"
      ]
    },
    {
      "cell_type": "markdown",
      "metadata": {
        "id": "M_1fupFNI4iT"
      },
      "source": [
        "#checking null values"
      ]
    },
    {
      "cell_type": "code",
      "execution_count": 8,
      "metadata": {
        "colab": {
          "base_uri": "https://localhost:8080/"
        },
        "id": "yvivOS7rLjH0",
        "outputId": "2e48d672-796a-4645-e761-24ea86138ddc"
      },
      "outputs": [
        {
          "name": "stdout",
          "output_type": "stream",
          "text": [
            "<class 'pandas.core.frame.DataFrame'>\n",
            "RangeIndex: 181673 entries, 0 to 181672\n",
            "Data columns (total 14 columns):\n",
            " #   Column         Non-Null Count   Dtype  \n",
            "---  ------         --------------   -----  \n",
            " 0   id             181671 non-null  object \n",
            " 1   item_date      181672 non-null  float64\n",
            " 2   quantity tons  181673 non-null  object \n",
            " 3   customer       181672 non-null  float64\n",
            " 4   country        181645 non-null  float64\n",
            " 5   status         181671 non-null  object \n",
            " 6   item type      181673 non-null  object \n",
            " 7   application    181649 non-null  float64\n",
            " 8   thickness      181672 non-null  float64\n",
            " 9   width          181673 non-null  float64\n",
            " 10  material_ref   103754 non-null  object \n",
            " 11  product_ref    181673 non-null  int64  \n",
            " 12  delivery date  181672 non-null  float64\n",
            " 13  selling_price  181672 non-null  float64\n",
            "dtypes: float64(8), int64(1), object(5)\n",
            "memory usage: 19.4+ MB\n"
          ]
        }
      ],
      "source": [
        "df1.info()"
      ]
    },
    {
      "cell_type": "code",
      "execution_count": 9,
      "metadata": {
        "colab": {
          "base_uri": "https://localhost:8080/"
        },
        "id": "EFhvVhWvLteH",
        "outputId": "412f8c32-50c2-4f73-8677-bca944f626ca"
      },
      "outputs": [
        {
          "data": {
            "text/plain": [
              "material_ref     77919\n",
              "country             28\n",
              "application         24\n",
              "id                   2\n",
              "status               2\n",
              "item_date            1\n",
              "customer             1\n",
              "thickness            1\n",
              "delivery date        1\n",
              "selling_price        1\n",
              "quantity tons        0\n",
              "item type            0\n",
              "width                0\n",
              "product_ref          0\n",
              "dtype: int64"
            ]
          },
          "execution_count": 9,
          "metadata": {},
          "output_type": "execute_result"
        }
      ],
      "source": [
        "df1.isnull().sum().sort_values(ascending=False)"
      ]
    },
    {
      "cell_type": "code",
      "execution_count": 10,
      "metadata": {
        "colab": {
          "base_uri": "https://localhost:8080/"
        },
        "id": "ejQGmSIqdf4_",
        "outputId": "f640d9a8-6aae-4e3d-f899-74b7c6d62fe8"
      },
      "outputs": [
        {
          "data": {
            "text/plain": [
              "0"
            ]
          },
          "execution_count": 10,
          "metadata": {},
          "output_type": "execute_result"
        }
      ],
      "source": [
        "df.duplicated().sum()"
      ]
    },
    {
      "cell_type": "markdown",
      "metadata": {
        "id": "r1bCkBfYJFUE"
      },
      "source": [
        "### in material ref near 50% data are missing so drop the column"
      ]
    },
    {
      "cell_type": "code",
      "execution_count": 11,
      "metadata": {
        "id": "UvMqepwjqmPe"
      },
      "outputs": [],
      "source": [
        "df1.drop([\"material_ref\",\"id\"],axis=1,inplace=True)"
      ]
    },
    {
      "cell_type": "markdown",
      "metadata": {
        "id": "OQY362mdLL1D"
      },
      "source": [
        "## missing values for other columns are minimum so drop the rows"
      ]
    },
    {
      "cell_type": "code",
      "execution_count": 12,
      "metadata": {
        "id": "xiMWti6yIAQY"
      },
      "outputs": [],
      "source": [
        "df1.dropna(inplace=True)"
      ]
    },
    {
      "cell_type": "code",
      "execution_count": 13,
      "metadata": {
        "colab": {
          "base_uri": "https://localhost:8080/"
        },
        "id": "MYr2u5T1GmIx",
        "outputId": "a3e3ded8-6ca5-4360-da73-0eaa30a4444c"
      },
      "outputs": [
        {
          "data": {
            "text/plain": [
              "Index(['item_date', 'quantity tons', 'customer', 'country', 'status',\n",
              "       'item type', 'application', 'thickness', 'width', 'product_ref',\n",
              "       'delivery date', 'selling_price'],\n",
              "      dtype='object')"
            ]
          },
          "execution_count": 13,
          "metadata": {},
          "output_type": "execute_result"
        }
      ],
      "source": [
        "df1.columns"
      ]
    },
    {
      "cell_type": "markdown",
      "metadata": {
        "id": "BBc_OnQ-I_YJ"
      },
      "source": [
        "# feature engineering and EDA"
      ]
    },
    {
      "cell_type": "code",
      "execution_count": 14,
      "metadata": {
        "id": "Ok-C19sSJT_4"
      },
      "outputs": [],
      "source": [
        "df1[\"item_date\"]=pd.to_datetime(df1[\"item_date\"],format=\"%Y%m%d\",errors=\"coerce\").dt.date\n",
        "df1[\"delivery date\"]=pd.to_datetime(df1[\"delivery date\"],format=\"%Y%m%d\",errors=\"coerce\").dt.date"
      ]
    },
    {
      "cell_type": "code",
      "execution_count": 15,
      "metadata": {
        "colab": {
          "base_uri": "https://localhost:8080/",
          "height": 164
        },
        "id": "JlICx28-J6CS",
        "outputId": "2d723ea3-c32f-460b-e0c3-7182d3049658"
      },
      "outputs": [
        {
          "data": {
            "text/html": [
              "<div>\n",
              "<style scoped>\n",
              "    .dataframe tbody tr th:only-of-type {\n",
              "        vertical-align: middle;\n",
              "    }\n",
              "\n",
              "    .dataframe tbody tr th {\n",
              "        vertical-align: top;\n",
              "    }\n",
              "\n",
              "    .dataframe thead th {\n",
              "        text-align: right;\n",
              "    }\n",
              "</style>\n",
              "<table border=\"1\" class=\"dataframe\">\n",
              "  <thead>\n",
              "    <tr style=\"text-align: right;\">\n",
              "      <th></th>\n",
              "      <th>item_date</th>\n",
              "      <th>quantity tons</th>\n",
              "      <th>customer</th>\n",
              "      <th>country</th>\n",
              "      <th>status</th>\n",
              "      <th>item type</th>\n",
              "      <th>application</th>\n",
              "      <th>thickness</th>\n",
              "      <th>width</th>\n",
              "      <th>product_ref</th>\n",
              "      <th>delivery date</th>\n",
              "      <th>selling_price</th>\n",
              "    </tr>\n",
              "  </thead>\n",
              "  <tbody>\n",
              "    <tr>\n",
              "      <th>0</th>\n",
              "      <td>2021-04-01</td>\n",
              "      <td>54.151139</td>\n",
              "      <td>30156308.0</td>\n",
              "      <td>28.0</td>\n",
              "      <td>Won</td>\n",
              "      <td>W</td>\n",
              "      <td>10.0</td>\n",
              "      <td>2.0</td>\n",
              "      <td>1500.0</td>\n",
              "      <td>1670798778</td>\n",
              "      <td>2021-07-01</td>\n",
              "      <td>854.0</td>\n",
              "    </tr>\n",
              "    <tr>\n",
              "      <th>1</th>\n",
              "      <td>2021-04-01</td>\n",
              "      <td>768.024839</td>\n",
              "      <td>30202938.0</td>\n",
              "      <td>25.0</td>\n",
              "      <td>Won</td>\n",
              "      <td>W</td>\n",
              "      <td>41.0</td>\n",
              "      <td>0.8</td>\n",
              "      <td>1210.0</td>\n",
              "      <td>1668701718</td>\n",
              "      <td>2021-04-01</td>\n",
              "      <td>1047.0</td>\n",
              "    </tr>\n",
              "  </tbody>\n",
              "</table>\n",
              "</div>"
            ],
            "text/plain": [
              "    item_date quantity tons    customer  country status item type  \\\n",
              "0  2021-04-01     54.151139  30156308.0     28.0    Won         W   \n",
              "1  2021-04-01    768.024839  30202938.0     25.0    Won         W   \n",
              "\n",
              "   application  thickness   width  product_ref delivery date  selling_price  \n",
              "0         10.0        2.0  1500.0   1670798778    2021-07-01          854.0  \n",
              "1         41.0        0.8  1210.0   1668701718    2021-04-01         1047.0  "
            ]
          },
          "execution_count": 15,
          "metadata": {},
          "output_type": "execute_result"
        }
      ],
      "source": [
        "df1.head(2)"
      ]
    },
    {
      "cell_type": "code",
      "execution_count": 16,
      "metadata": {
        "id": "tjinvhrm35to"
      },
      "outputs": [],
      "source": [
        "def numerics(x):\n",
        "  try:\n",
        "    return round(float(x),1)\n",
        "  except:\n",
        "    return np.nan"
      ]
    },
    {
      "cell_type": "code",
      "execution_count": 17,
      "metadata": {
        "id": "YJaUpKZ_20EJ"
      },
      "outputs": [],
      "source": [
        "df1[\"quantity_tons\"]=df1[\"quantity tons\"].apply(lambda x: numerics(x))"
      ]
    },
    {
      "cell_type": "code",
      "execution_count": 18,
      "metadata": {
        "colab": {
          "base_uri": "https://localhost:8080/"
        },
        "id": "GxxwIHa-454u",
        "outputId": "ca73ba6f-9ff1-4de1-9c4a-02ac62467c2a"
      },
      "outputs": [
        {
          "data": {
            "text/plain": [
              "quantity tons\n",
              "54.151139      1\n",
              "126.485605     1\n",
              "128.450350     1\n",
              "30.110968      1\n",
              "50.496085      1\n",
              "              ..\n",
              "11.605474      1\n",
              "14.503911      1\n",
              "4.977580       1\n",
              "1003.530017    1\n",
              "406.686538     1\n",
              "Name: count, Length: 181638, dtype: int64"
            ]
          },
          "execution_count": 18,
          "metadata": {},
          "output_type": "execute_result"
        }
      ],
      "source": [
        "df1[\"quantity tons\"].value_counts()"
      ]
    },
    {
      "cell_type": "code",
      "execution_count": 19,
      "metadata": {
        "id": "C0jvajn0MO_5"
      },
      "outputs": [],
      "source": [
        "df1.drop([\"quantity tons\"],axis=1,inplace=True)"
      ]
    },
    {
      "cell_type": "code",
      "execution_count": 20,
      "metadata": {
        "colab": {
          "base_uri": "https://localhost:8080/",
          "height": 300
        },
        "id": "PEZmDi9UPjep",
        "outputId": "04de0cd9-e4ae-4314-a237-17cb96436ff5"
      },
      "outputs": [
        {
          "data": {
            "text/html": [
              "<div>\n",
              "<style scoped>\n",
              "    .dataframe tbody tr th:only-of-type {\n",
              "        vertical-align: middle;\n",
              "    }\n",
              "\n",
              "    .dataframe tbody tr th {\n",
              "        vertical-align: top;\n",
              "    }\n",
              "\n",
              "    .dataframe thead th {\n",
              "        text-align: right;\n",
              "    }\n",
              "</style>\n",
              "<table border=\"1\" class=\"dataframe\">\n",
              "  <thead>\n",
              "    <tr style=\"text-align: right;\">\n",
              "      <th></th>\n",
              "      <th>count</th>\n",
              "      <th>mean</th>\n",
              "      <th>std</th>\n",
              "      <th>min</th>\n",
              "      <th>25%</th>\n",
              "      <th>50%</th>\n",
              "      <th>75%</th>\n",
              "      <th>max</th>\n",
              "    </tr>\n",
              "  </thead>\n",
              "  <tbody>\n",
              "    <tr>\n",
              "      <th>customer</th>\n",
              "      <td>181638.0</td>\n",
              "      <td>3.023251e+07</td>\n",
              "      <td>1.005615e+05</td>\n",
              "      <td>12458.00</td>\n",
              "      <td>30196884.0</td>\n",
              "      <td>30205242.0</td>\n",
              "      <td>3.028042e+07</td>\n",
              "      <td>3.040818e+07</td>\n",
              "    </tr>\n",
              "    <tr>\n",
              "      <th>country</th>\n",
              "      <td>181638.0</td>\n",
              "      <td>4.489308e+01</td>\n",
              "      <td>2.440425e+01</td>\n",
              "      <td>25.00</td>\n",
              "      <td>26.0</td>\n",
              "      <td>30.0</td>\n",
              "      <td>7.800000e+01</td>\n",
              "      <td>1.130000e+02</td>\n",
              "    </tr>\n",
              "    <tr>\n",
              "      <th>application</th>\n",
              "      <td>181638.0</td>\n",
              "      <td>2.561629e+01</td>\n",
              "      <td>1.775418e+01</td>\n",
              "      <td>2.00</td>\n",
              "      <td>10.0</td>\n",
              "      <td>15.0</td>\n",
              "      <td>4.100000e+01</td>\n",
              "      <td>9.900000e+01</td>\n",
              "    </tr>\n",
              "    <tr>\n",
              "      <th>thickness</th>\n",
              "      <td>181638.0</td>\n",
              "      <td>2.564151e+00</td>\n",
              "      <td>6.572518e+00</td>\n",
              "      <td>0.18</td>\n",
              "      <td>0.7</td>\n",
              "      <td>1.5</td>\n",
              "      <td>3.000000e+00</td>\n",
              "      <td>2.500000e+03</td>\n",
              "    </tr>\n",
              "    <tr>\n",
              "      <th>width</th>\n",
              "      <td>181638.0</td>\n",
              "      <td>1.295263e+03</td>\n",
              "      <td>2.616425e+02</td>\n",
              "      <td>1.00</td>\n",
              "      <td>1180.0</td>\n",
              "      <td>1250.0</td>\n",
              "      <td>1.500000e+03</td>\n",
              "      <td>2.990000e+03</td>\n",
              "    </tr>\n",
              "    <tr>\n",
              "      <th>product_ref</th>\n",
              "      <td>181638.0</td>\n",
              "      <td>4.740325e+08</td>\n",
              "      <td>7.175384e+08</td>\n",
              "      <td>611728.00</td>\n",
              "      <td>611993.0</td>\n",
              "      <td>640665.0</td>\n",
              "      <td>1.332077e+09</td>\n",
              "      <td>1.722208e+09</td>\n",
              "    </tr>\n",
              "    <tr>\n",
              "      <th>selling_price</th>\n",
              "      <td>181638.0</td>\n",
              "      <td>1.918328e+03</td>\n",
              "      <td>3.318267e+05</td>\n",
              "      <td>-1160.00</td>\n",
              "      <td>669.0</td>\n",
              "      <td>812.0</td>\n",
              "      <td>9.530000e+02</td>\n",
              "      <td>1.000010e+08</td>\n",
              "    </tr>\n",
              "    <tr>\n",
              "      <th>quantity_tons</th>\n",
              "      <td>181637.0</td>\n",
              "      <td>5.876038e+03</td>\n",
              "      <td>2.349308e+06</td>\n",
              "      <td>-2000.00</td>\n",
              "      <td>11.0</td>\n",
              "      <td>30.4</td>\n",
              "      <td>6.720000e+01</td>\n",
              "      <td>1.000000e+09</td>\n",
              "    </tr>\n",
              "  </tbody>\n",
              "</table>\n",
              "</div>"
            ],
            "text/plain": [
              "                  count          mean           std        min         25%  \\\n",
              "customer       181638.0  3.023251e+07  1.005615e+05   12458.00  30196884.0   \n",
              "country        181638.0  4.489308e+01  2.440425e+01      25.00        26.0   \n",
              "application    181638.0  2.561629e+01  1.775418e+01       2.00        10.0   \n",
              "thickness      181638.0  2.564151e+00  6.572518e+00       0.18         0.7   \n",
              "width          181638.0  1.295263e+03  2.616425e+02       1.00      1180.0   \n",
              "product_ref    181638.0  4.740325e+08  7.175384e+08  611728.00    611993.0   \n",
              "selling_price  181638.0  1.918328e+03  3.318267e+05   -1160.00       669.0   \n",
              "quantity_tons  181637.0  5.876038e+03  2.349308e+06   -2000.00        11.0   \n",
              "\n",
              "                      50%           75%           max  \n",
              "customer       30205242.0  3.028042e+07  3.040818e+07  \n",
              "country              30.0  7.800000e+01  1.130000e+02  \n",
              "application          15.0  4.100000e+01  9.900000e+01  \n",
              "thickness             1.5  3.000000e+00  2.500000e+03  \n",
              "width              1250.0  1.500000e+03  2.990000e+03  \n",
              "product_ref      640665.0  1.332077e+09  1.722208e+09  \n",
              "selling_price       812.0  9.530000e+02  1.000010e+08  \n",
              "quantity_tons        30.4  6.720000e+01  1.000000e+09  "
            ]
          },
          "execution_count": 20,
          "metadata": {},
          "output_type": "execute_result"
        }
      ],
      "source": [
        "df1.describe().T"
      ]
    },
    {
      "cell_type": "markdown",
      "metadata": {
        "id": "GMYg-clAO9tN"
      },
      "source": [
        "#### In quantity tons and selling price columns have negative values so drop the rows"
      ]
    },
    {
      "cell_type": "code",
      "execution_count": 21,
      "metadata": {
        "id": "KjGQ17WhOYsm"
      },
      "outputs": [],
      "source": [
        "df2=df1[df1[\"quantity_tons\"]>0]"
      ]
    },
    {
      "cell_type": "code",
      "execution_count": 22,
      "metadata": {
        "id": "yooTZq__8LAz"
      },
      "outputs": [],
      "source": [
        "df3=df2[df2[\"selling_price\"]>0]"
      ]
    },
    {
      "cell_type": "code",
      "execution_count": 23,
      "metadata": {
        "colab": {
          "base_uri": "https://localhost:8080/"
        },
        "id": "Nckyv_oIgKfx",
        "outputId": "5571ed6e-a468-4ad5-a71e-62a1d61f79b9"
      },
      "outputs": [
        {
          "data": {
            "text/plain": [
              "(181522, 12)"
            ]
          },
          "execution_count": 23,
          "metadata": {},
          "output_type": "execute_result"
        }
      ],
      "source": [
        "df3.shape"
      ]
    },
    {
      "cell_type": "code",
      "execution_count": 24,
      "metadata": {
        "id": "1Okiu25dJehD"
      },
      "outputs": [],
      "source": [
        "df3[\"customer\"]=df3[\"customer\"].astype(str)"
      ]
    },
    {
      "cell_type": "code",
      "execution_count": 25,
      "metadata": {
        "id": "b73F5JxGQZty"
      },
      "outputs": [],
      "source": [
        "df3[\"customer_id\"]=df3[\"customer\"].apply(lambda x: x.split(\".\")[0]).astype(int)"
      ]
    },
    {
      "cell_type": "code",
      "execution_count": 26,
      "metadata": {
        "id": "aE7bPqopJiFb"
      },
      "outputs": [],
      "source": [
        "df3[\"country\"]=df3[\"country\"].astype(str)"
      ]
    },
    {
      "cell_type": "code",
      "execution_count": 27,
      "metadata": {
        "id": "VQcEHoB0K48m"
      },
      "outputs": [],
      "source": [
        "df3[\"country\"]=df3[\"country\"].apply(lambda x: x.split(\".\")[0]).astype(int)"
      ]
    },
    {
      "cell_type": "code",
      "execution_count": 28,
      "metadata": {
        "id": "YMqpWmBqLCOu"
      },
      "outputs": [],
      "source": [
        "df3[\"application\"]=df3[\"application\"].astype(str)"
      ]
    },
    {
      "cell_type": "code",
      "execution_count": 29,
      "metadata": {
        "id": "ZkqEoQZQLiOa"
      },
      "outputs": [],
      "source": [
        "df3[\"application\"]=df3[\"application\"].apply(lambda x: x.split(\".\")[0]).astype(int)"
      ]
    },
    {
      "cell_type": "code",
      "execution_count": 30,
      "metadata": {
        "colab": {
          "base_uri": "https://localhost:8080/"
        },
        "id": "JkBddnMzLzXK",
        "outputId": "92f0f6bc-ac62-43d4-d966-f108f5cc800b"
      },
      "outputs": [
        {
          "data": {
            "text/plain": [
              "Index(['item_date', 'customer', 'country', 'status', 'item type',\n",
              "       'application', 'thickness', 'width', 'product_ref', 'delivery date',\n",
              "       'selling_price', 'quantity_tons', 'customer_id'],\n",
              "      dtype='object')"
            ]
          },
          "execution_count": 30,
          "metadata": {},
          "output_type": "execute_result"
        }
      ],
      "source": [
        "df3.columns"
      ]
    },
    {
      "cell_type": "code",
      "execution_count": 31,
      "metadata": {
        "colab": {
          "base_uri": "https://localhost:8080/"
        },
        "id": "QOI9z01mSThK",
        "outputId": "bc2faf25-a51f-46a0-e20f-75c3f351134d"
      },
      "outputs": [
        {
          "data": {
            "text/plain": [
              "array(['Won', 'Draft', 'To be approved', 'Lost', 'Not lost for AM',\n",
              "       'Wonderful', 'Revised', 'Offered', 'Offerable'], dtype=object)"
            ]
          },
          "execution_count": 31,
          "metadata": {},
          "output_type": "execute_result"
        }
      ],
      "source": [
        "df3.status.unique()"
      ]
    },
    {
      "cell_type": "code",
      "execution_count": 32,
      "metadata": {
        "id": "9RjFONBNSM54"
      },
      "outputs": [],
      "source": [
        "df3.status=df3.status.map({'Lost':0, 'Won':1, 'Draft':2, 'To be approved':3, 'Not lost for AM':4,\n",
        "                                 'Wonderful':5, 'Revised':6, 'Offered':7, 'Offerable':8})"
      ]
    },
    {
      "cell_type": "code",
      "execution_count": 33,
      "metadata": {
        "colab": {
          "base_uri": "https://localhost:8080/"
        },
        "id": "TFTc4gF6TCRD",
        "outputId": "fff33e11-7044-4e89-fc61-41709adf76e9"
      },
      "outputs": [
        {
          "data": {
            "text/plain": [
              "item type\n",
              "W         105511\n",
              "S          69202\n",
              "PL          5647\n",
              "Others       610\n",
              "WI           524\n",
              "IPL           27\n",
              "SLAWR          1\n",
              "Name: count, dtype: int64"
            ]
          },
          "execution_count": 33,
          "metadata": {},
          "output_type": "execute_result"
        }
      ],
      "source": [
        "df3[\"item type\"].value_counts()"
      ]
    },
    {
      "cell_type": "markdown",
      "metadata": {
        "id": "0BV-ZV5kS_s0"
      },
      "source": [
        "*   WI (Work-in-progress Inventory): Highest priority as they are currently in progress and need close monitoring.\n",
        "*   W (Work-in-progress): Items currently being processed.\n",
        "*   IPL (Initial Production Lot): New items in the production line.\n",
        "*   PL (Production Line items): Standard items in production.\n",
        "*   S (Standard items): Regular inventory items.\n",
        "*   Other (Other items not classified): Miscellaneous items.\n"
      ]
    },
    {
      "cell_type": "code",
      "execution_count": 34,
      "metadata": {
        "id": "Qu8jiw0YS0Er"
      },
      "outputs": [],
      "source": [
        "df3[\"item_type\"]=df3[\"item type\"].map({'WI': 1,'W': 2,'IPL': 3,'PL': 4,'S': 5,'Others':6,\"SLAWR\":6})"
      ]
    },
    {
      "cell_type": "code",
      "execution_count": 35,
      "metadata": {
        "id": "T0BR0nzDNedp"
      },
      "outputs": [],
      "source": [
        "df3=df3.drop([\"item type\"],axis=1)"
      ]
    },
    {
      "cell_type": "markdown",
      "metadata": {
        "id": "-j8NVyxGUX4R"
      },
      "source": [
        "## removing outliers by IQR method"
      ]
    },
    {
      "cell_type": "code",
      "execution_count": 36,
      "metadata": {
        "id": "BPwNJZ3aT4za"
      },
      "outputs": [],
      "source": [
        "cols=['quantity_tons', 'customer_id', 'item_type', 'application', 'thickness', 'width', 'selling_price']"
      ]
    },
    {
      "cell_type": "code",
      "execution_count": 37,
      "metadata": {
        "colab": {
          "base_uri": "https://localhost:8080/"
        },
        "id": "J7uKcGGygKf7",
        "outputId": "2b0a1049-57c1-4007-9078-71b1fedfd4a2"
      },
      "outputs": [
        {
          "data": {
            "text/plain": [
              "item_date         object\n",
              "customer          object\n",
              "country            int32\n",
              "status             int64\n",
              "application        int32\n",
              "thickness        float64\n",
              "width            float64\n",
              "product_ref        int64\n",
              "delivery date     object\n",
              "selling_price    float64\n",
              "quantity_tons    float64\n",
              "customer_id        int32\n",
              "item_type          int64\n",
              "dtype: object"
            ]
          },
          "execution_count": 37,
          "metadata": {},
          "output_type": "execute_result"
        }
      ],
      "source": [
        "df3.dtypes"
      ]
    },
    {
      "cell_type": "code",
      "execution_count": 38,
      "metadata": {
        "colab": {
          "base_uri": "https://localhost:8080/",
          "height": 1000
        },
        "id": "gnEye5uZZzxl",
        "outputId": "c17bcbee-f5d3-42cc-9443-c8f811cd6fb9"
      },
      "outputs": [
        {
          "data": {
            "image/png": "[encoded data removed]",
            "text/plain": [
              "<Figure size 400x300 with 1 Axes>"
            ]
          },
          "metadata": {},
          "output_type": "display_data"
        },
        {
          "data": {
            "image/png": "[encoded data removed]",
            "text/plain": [
              "<Figure size 400x300 with 1 Axes>"
            ]
          },
          "metadata": {},
          "output_type": "display_data"
        },
        {
          "data": {
            "image/png": "[encoded data removed]",
            "text/plain": [
              "<Figure size 400x300 with 1 Axes>"
            ]
          },
          "metadata": {},
          "output_type": "display_data"
        },
        {
          "data": {
            "image/png": "[encoded data removed]",
            "text/plain": [
              "<Figure size 400x300 with 1 Axes>"
            ]
          },
          "metadata": {},
          "output_type": "display_data"
        },
        {
          "data": {
            "image/png": "[encoded data removed]",
            "text/plain": [
              "<Figure size 400x300 with 1 Axes>"
            ]
          },
          "metadata": {},
          "output_type": "display_data"
        },
        {
          "data": {
            "image/png": "[encoded data removed]",
            "text/plain": [
              "<Figure size 400x300 with 1 Axes>"
            ]
          },
          "metadata": {},
          "output_type": "display_data"
        },
        {
          "data": {
            "image/png": "[encoded data removed]",
            "text/plain": [
              "<Figure size 400x300 with 1 Axes>"
            ]
          },
          "metadata": {},
          "output_type": "display_data"
        }
      ],
      "source": [
        "for column in cols:\n",
        "    plt.figure(figsize=(4,3))\n",
        "    sns.boxplot(x=df3[column])\n",
        "\n"
      ]
    },
    {
      "cell_type": "code",
      "execution_count": 39,
      "metadata": {
        "id": "S8spPuXAYtkZ"
      },
      "outputs": [],
      "source": [
        "df4=df3.copy()"
      ]
    },
    {
      "cell_type": "markdown",
      "metadata": {
        "id": "Ix01g8XwgKgQ"
      },
      "source": [
        "### apply log transformation"
      ]
    },
    {
      "cell_type": "code",
      "execution_count": 40,
      "metadata": {
        "colab": {
          "base_uri": "https://localhost:8080/",
          "height": 184
        },
        "id": "RMXTzcMEY2Z6",
        "outputId": "de247e9d-5073-4e45-a3ba-8182d780aa0e"
      },
      "outputs": [
        {
          "data": {
            "text/html": [
              "<div>\n",
              "<style scoped>\n",
              "    .dataframe tbody tr th:only-of-type {\n",
              "        vertical-align: middle;\n",
              "    }\n",
              "\n",
              "    .dataframe tbody tr th {\n",
              "        vertical-align: top;\n",
              "    }\n",
              "\n",
              "    .dataframe thead th {\n",
              "        text-align: right;\n",
              "    }\n",
              "</style>\n",
              "<table border=\"1\" class=\"dataframe\">\n",
              "  <thead>\n",
              "    <tr style=\"text-align: right;\">\n",
              "      <th></th>\n",
              "      <th>item_date</th>\n",
              "      <th>customer</th>\n",
              "      <th>country</th>\n",
              "      <th>status</th>\n",
              "      <th>application</th>\n",
              "      <th>thickness</th>\n",
              "      <th>width</th>\n",
              "      <th>product_ref</th>\n",
              "      <th>delivery date</th>\n",
              "      <th>selling_price</th>\n",
              "      <th>quantity_tons</th>\n",
              "      <th>customer_id</th>\n",
              "      <th>item_type</th>\n",
              "    </tr>\n",
              "  </thead>\n",
              "  <tbody>\n",
              "    <tr>\n",
              "      <th>0</th>\n",
              "      <td>2021-04-01</td>\n",
              "      <td>30156308.0</td>\n",
              "      <td>28</td>\n",
              "      <td>1</td>\n",
              "      <td>10</td>\n",
              "      <td>2.0</td>\n",
              "      <td>7.313887</td>\n",
              "      <td>1670798778</td>\n",
              "      <td>2021-07-01</td>\n",
              "      <td>6.751101</td>\n",
              "      <td>4.010963</td>\n",
              "      <td>30156308</td>\n",
              "      <td>2</td>\n",
              "    </tr>\n",
              "    <tr>\n",
              "      <th>1</th>\n",
              "      <td>2021-04-01</td>\n",
              "      <td>30202938.0</td>\n",
              "      <td>25</td>\n",
              "      <td>1</td>\n",
              "      <td>41</td>\n",
              "      <td>0.8</td>\n",
              "      <td>7.099202</td>\n",
              "      <td>1668701718</td>\n",
              "      <td>2021-04-01</td>\n",
              "      <td>6.954639</td>\n",
              "      <td>6.645091</td>\n",
              "      <td>30202938</td>\n",
              "      <td>2</td>\n",
              "    </tr>\n",
              "  </tbody>\n",
              "</table>\n",
              "</div>"
            ],
            "text/plain": [
              "    item_date    customer  country  status  application  thickness     width  \\\n",
              "0  2021-04-01  30156308.0       28       1           10        2.0  7.313887   \n",
              "1  2021-04-01  30202938.0       25       1           41        0.8  7.099202   \n",
              "\n",
              "   product_ref delivery date  selling_price  quantity_tons  customer_id  \\\n",
              "0   1670798778    2021-07-01       6.751101       4.010963     30156308   \n",
              "1   1668701718    2021-04-01       6.954639       6.645091     30202938   \n",
              "\n",
              "   item_type  \n",
              "0          2  \n",
              "1          2  "
            ]
          },
          "execution_count": 40,
          "metadata": {},
          "output_type": "execute_result"
        }
      ],
      "source": [
        "df4['quantity_tons'] = np.log(df4['quantity_tons']+1)\n",
        "df4['width'] = np.log(df4['width']+1)\n",
        "df4['selling_price'] = np.log(df4['selling_price']+1)\n",
        "df4.head(2)"
      ]
    },
    {
      "cell_type": "code",
      "execution_count": 41,
      "metadata": {
        "id": "0A3ELumfYsTa"
      },
      "outputs": [],
      "source": [
        "def outliers(df,column):\n",
        "  Q1=df[column].quantile(0.25)\n",
        "  Q3=df[column].quantile(0.75)\n",
        "  IQR=Q3-Q1\n",
        "  lower_bound=Q1-1.5*IQR\n",
        "  upper_bound=Q3+1.5*IQR\n",
        "  return lower_bound,upper_bound"
      ]
    },
    {
      "cell_type": "code",
      "execution_count": 42,
      "metadata": {
        "id": "cLwAbUFpCYdA"
      },
      "outputs": [],
      "source": [
        "# Apply the outliers function to each numerical column\n",
        "for column in cols:\n",
        "    if pd.api.types.is_numeric_dtype(df4[column]):\n",
        "        lower_bound, upper_bound = outliers(df4, column)\n",
        "        df4 = df4[(df4[column] >= lower_bound) & (df4[column] <= upper_bound)]\n"
      ]
    },
    {
      "cell_type": "code",
      "execution_count": 43,
      "metadata": {
        "colab": {
          "base_uri": "https://localhost:8080/",
          "height": 330
        },
        "id": "kIG73HpLaX7J",
        "outputId": "6bb2b20d-6a71-4c25-d07f-b63b9710f386"
      },
      "outputs": [
        {
          "data": {
            "text/html": [
              "<div>\n",
              "<style scoped>\n",
              "    .dataframe tbody tr th:only-of-type {\n",
              "        vertical-align: middle;\n",
              "    }\n",
              "\n",
              "    .dataframe tbody tr th {\n",
              "        vertical-align: top;\n",
              "    }\n",
              "\n",
              "    .dataframe thead th {\n",
              "        text-align: right;\n",
              "    }\n",
              "</style>\n",
              "<table border=\"1\" class=\"dataframe\">\n",
              "  <thead>\n",
              "    <tr style=\"text-align: right;\">\n",
              "      <th></th>\n",
              "      <th>item_date</th>\n",
              "      <th>customer</th>\n",
              "      <th>country</th>\n",
              "      <th>status</th>\n",
              "      <th>application</th>\n",
              "      <th>thickness</th>\n",
              "      <th>width</th>\n",
              "      <th>product_ref</th>\n",
              "      <th>delivery date</th>\n",
              "      <th>selling_price</th>\n",
              "      <th>quantity_tons</th>\n",
              "      <th>customer_id</th>\n",
              "      <th>item_type</th>\n",
              "    </tr>\n",
              "  </thead>\n",
              "  <tbody>\n",
              "    <tr>\n",
              "      <th>0</th>\n",
              "      <td>2021-04-01</td>\n",
              "      <td>30156308.0</td>\n",
              "      <td>28</td>\n",
              "      <td>1</td>\n",
              "      <td>10</td>\n",
              "      <td>2.00</td>\n",
              "      <td>7.313887</td>\n",
              "      <td>1670798778</td>\n",
              "      <td>2021-07-01</td>\n",
              "      <td>6.751101</td>\n",
              "      <td>4.010963</td>\n",
              "      <td>30156308</td>\n",
              "      <td>2</td>\n",
              "    </tr>\n",
              "    <tr>\n",
              "      <th>1</th>\n",
              "      <td>2021-04-01</td>\n",
              "      <td>30202938.0</td>\n",
              "      <td>25</td>\n",
              "      <td>1</td>\n",
              "      <td>41</td>\n",
              "      <td>0.80</td>\n",
              "      <td>7.099202</td>\n",
              "      <td>1668701718</td>\n",
              "      <td>2021-04-01</td>\n",
              "      <td>6.954639</td>\n",
              "      <td>6.645091</td>\n",
              "      <td>30202938</td>\n",
              "      <td>2</td>\n",
              "    </tr>\n",
              "    <tr>\n",
              "      <th>2</th>\n",
              "      <td>2021-04-01</td>\n",
              "      <td>30153963.0</td>\n",
              "      <td>30</td>\n",
              "      <td>1</td>\n",
              "      <td>28</td>\n",
              "      <td>0.38</td>\n",
              "      <td>6.859615</td>\n",
              "      <td>628377</td>\n",
              "      <td>2021-01-01</td>\n",
              "      <td>6.469762</td>\n",
              "      <td>5.958683</td>\n",
              "      <td>30153963</td>\n",
              "      <td>1</td>\n",
              "    </tr>\n",
              "    <tr>\n",
              "      <th>3</th>\n",
              "      <td>2021-04-01</td>\n",
              "      <td>30349574.0</td>\n",
              "      <td>32</td>\n",
              "      <td>1</td>\n",
              "      <td>59</td>\n",
              "      <td>2.30</td>\n",
              "      <td>7.183871</td>\n",
              "      <td>1668701718</td>\n",
              "      <td>2021-01-01</td>\n",
              "      <td>6.645091</td>\n",
              "      <td>5.315174</td>\n",
              "      <td>30349574</td>\n",
              "      <td>5</td>\n",
              "    </tr>\n",
              "    <tr>\n",
              "      <th>4</th>\n",
              "      <td>2021-04-01</td>\n",
              "      <td>30211560.0</td>\n",
              "      <td>28</td>\n",
              "      <td>1</td>\n",
              "      <td>10</td>\n",
              "      <td>4.00</td>\n",
              "      <td>7.601402</td>\n",
              "      <td>640665</td>\n",
              "      <td>2021-03-01</td>\n",
              "      <td>6.359574</td>\n",
              "      <td>6.667593</td>\n",
              "      <td>30211560</td>\n",
              "      <td>2</td>\n",
              "    </tr>\n",
              "  </tbody>\n",
              "</table>\n",
              "</div>"
            ],
            "text/plain": [
              "    item_date    customer  country  status  application  thickness     width  \\\n",
              "0  2021-04-01  30156308.0       28       1           10       2.00  7.313887   \n",
              "1  2021-04-01  30202938.0       25       1           41       0.80  7.099202   \n",
              "2  2021-04-01  30153963.0       30       1           28       0.38  6.859615   \n",
              "3  2021-04-01  30349574.0       32       1           59       2.30  7.183871   \n",
              "4  2021-04-01  30211560.0       28       1           10       4.00  7.601402   \n",
              "\n",
              "   product_ref delivery date  selling_price  quantity_tons  customer_id  \\\n",
              "0   1670798778    2021-07-01       6.751101       4.010963     30156308   \n",
              "1   1668701718    2021-04-01       6.954639       6.645091     30202938   \n",
              "2       628377    2021-01-01       6.469762       5.958683     30153963   \n",
              "3   1668701718    2021-01-01       6.645091       5.315174     30349574   \n",
              "4       640665    2021-03-01       6.359574       6.667593     30211560   \n",
              "\n",
              "   item_type  \n",
              "0          2  \n",
              "1          2  \n",
              "2          1  \n",
              "3          5  \n",
              "4          2  "
            ]
          },
          "execution_count": 43,
          "metadata": {},
          "output_type": "execute_result"
        }
      ],
      "source": [
        "df4.head()"
      ]
    },
    {
      "cell_type": "code",
      "execution_count": 44,
      "metadata": {
        "id": "8f9upW5k5_31"
      },
      "outputs": [],
      "source": [
        "df4[\"item_date\"]=pd.to_datetime(df4[\"item_date\"])\n",
        "df4[\"delivery date\"]=pd.to_datetime(df4[\"delivery date\"])"
      ]
    },
    {
      "cell_type": "code",
      "execution_count": 45,
      "metadata": {
        "id": "ZtIZlMLR6noR"
      },
      "outputs": [],
      "source": [
        "df4['date_difference'] = (df4['delivery date'] - df4['item_date']).dt.days"
      ]
    },
    {
      "cell_type": "code",
      "execution_count": 46,
      "metadata": {
        "colab": {
          "base_uri": "https://localhost:8080/",
          "height": 1000
        },
        "id": "kIAf-3n9aWFy",
        "outputId": "d5f5a2ec-ad9a-4e9b-9ab4-da0e29b42e8a"
      },
      "outputs": [
        {
          "data": {
            "image/png": "[encoded data removed]",
            "text/plain": [
              "<Figure size 900x300 with 2 Axes>"
            ]
          },
          "metadata": {},
          "output_type": "display_data"
        },
        {
          "data": {
            "image/png": "[encoded data removed]",
            "text/plain": [
              "<Figure size 900x300 with 2 Axes>"
            ]
          },
          "metadata": {},
          "output_type": "display_data"
        },
        {
          "data": {
            "image/png": "[encoded data removed]",
            "text/plain": [
              "<Figure size 900x300 with 2 Axes>"
            ]
          },
          "metadata": {},
          "output_type": "display_data"
        },
        {
          "data": {
            "image/png": "[encoded data removed]",
            "text/plain": [
              "<Figure size 900x300 with 2 Axes>"
            ]
          },
          "metadata": {},
          "output_type": "display_data"
        },
        {
          "data": {
            "image/png": "[encoded data removed]",
            "text/plain": [
              "<Figure size 900x300 with 2 Axes>"
            ]
          },
          "metadata": {},
          "output_type": "display_data"
        },
        {
          "data": {
            "image/png": "[encoded data removed]",
            "text/plain": [
              "<Figure size 900x300 with 2 Axes>"
            ]
          },
          "metadata": {},
          "output_type": "display_data"
        },
        {
          "data": {
            "image/png": "[encoded data removed]",
            "text/plain": [
              "<Figure size 900x300 with 2 Axes>"
            ]
          },
          "metadata": {},
          "output_type": "display_data"
        }
      ],
      "source": [
        "for column in cols:\n",
        "    fig, axs = plt.subplots(1, 2, figsize=(9, 3))\n",
        "\n",
        "    sns.histplot(df4[column], kde=True, ax=axs[0])\n",
        "    axs[0].set_title(f\"Distribution of {column}\")\n",
        "\n",
        "    sns.boxplot(x=df4[column], ax=axs[1])\n",
        "    axs[1].set_title(f\"Outliers in {column}\")\n",
        "\n",
        "    plt.tight_layout()"
      ]
    },
    {
      "cell_type": "code",
      "execution_count": 47,
      "metadata": {
        "colab": {
          "base_uri": "https://localhost:8080/",
          "height": 457
        },
        "id": "xib5I5EGK-a4",
        "outputId": "67ea946d-cfa6-4986-d5d9-e571c73b3790"
      },
      "outputs": [
        {
          "data": {
            "text/plain": [
              "<Axes: xlabel='country', ylabel='status'>"
            ]
          },
          "execution_count": 47,
          "metadata": {},
          "output_type": "execute_result"
        },
        {
          "data": {
            "image/png": "[encoded data removed]",
            "text/plain": [
              "<Figure size 1400x500 with 1 Axes>"
            ]
          },
          "metadata": {},
          "output_type": "display_data"
        }
      ],
      "source": [
        "plt.figure(figsize=(14,5))\n",
        "\n",
        "sns.barplot(x=df4[\"country\"],y=df4.status)"
      ]
    },
    {
      "cell_type": "code",
      "execution_count": 48,
      "metadata": {
        "colab": {
          "base_uri": "https://localhost:8080/",
          "height": 624
        },
        "id": "lVST03IZgKgZ",
        "outputId": "588b16a9-8cd1-4b1f-bf08-83c8f4331a90"
      },
      "outputs": [
        {
          "data": {
            "text/plain": [
              "<Axes: >"
            ]
          },
          "execution_count": 48,
          "metadata": {},
          "output_type": "execute_result"
        },
        {
          "data": {
            "image/png": "[encoded data removed]",
            "text/plain": [
              "<Figure size 1400x600 with 2 Axes>"
            ]
          },
          "metadata": {},
          "output_type": "display_data"
        }
      ],
      "source": [
        "df_heatmap = df4.corr()\n",
        "plt.figure(figsize=(14,6))\n",
        "sns.heatmap(df_heatmap, annot=True)"
      ]
    },
    {
      "cell_type": "markdown",
      "metadata": {
        "id": "gajzEyhvgKga"
      },
      "source": [
        "#### selling price and tickness has high correlation"
      ]
    },
    {
      "cell_type": "code",
      "execution_count": 49,
      "metadata": {
        "colab": {
          "base_uri": "https://localhost:8080/",
          "height": 330
        },
        "id": "tCcCmPrQka6A",
        "outputId": "81557dcd-3f24-46e3-d2ae-4e3df80df6b0"
      },
      "outputs": [
        {
          "data": {
            "text/html": [
              "<div>\n",
              "<style scoped>\n",
              "    .dataframe tbody tr th:only-of-type {\n",
              "        vertical-align: middle;\n",
              "    }\n",
              "\n",
              "    .dataframe tbody tr th {\n",
              "        vertical-align: top;\n",
              "    }\n",
              "\n",
              "    .dataframe thead th {\n",
              "        text-align: right;\n",
              "    }\n",
              "</style>\n",
              "<table border=\"1\" class=\"dataframe\">\n",
              "  <thead>\n",
              "    <tr style=\"text-align: right;\">\n",
              "      <th></th>\n",
              "      <th>item_date</th>\n",
              "      <th>customer</th>\n",
              "      <th>country</th>\n",
              "      <th>status</th>\n",
              "      <th>application</th>\n",
              "      <th>thickness</th>\n",
              "      <th>width</th>\n",
              "      <th>product_ref</th>\n",
              "      <th>delivery date</th>\n",
              "      <th>selling_price</th>\n",
              "      <th>quantity_tons</th>\n",
              "      <th>customer_id</th>\n",
              "      <th>item_type</th>\n",
              "      <th>date_difference</th>\n",
              "    </tr>\n",
              "  </thead>\n",
              "  <tbody>\n",
              "    <tr>\n",
              "      <th>0</th>\n",
              "      <td>2021-04-01</td>\n",
              "      <td>30156308.0</td>\n",
              "      <td>28</td>\n",
              "      <td>1</td>\n",
              "      <td>10</td>\n",
              "      <td>2.00</td>\n",
              "      <td>7.313887</td>\n",
              "      <td>1670798778</td>\n",
              "      <td>2021-07-01</td>\n",
              "      <td>6.751101</td>\n",
              "      <td>4.010963</td>\n",
              "      <td>30156308</td>\n",
              "      <td>2</td>\n",
              "      <td>91.0</td>\n",
              "    </tr>\n",
              "    <tr>\n",
              "      <th>1</th>\n",
              "      <td>2021-04-01</td>\n",
              "      <td>30202938.0</td>\n",
              "      <td>25</td>\n",
              "      <td>1</td>\n",
              "      <td>41</td>\n",
              "      <td>0.80</td>\n",
              "      <td>7.099202</td>\n",
              "      <td>1668701718</td>\n",
              "      <td>2021-04-01</td>\n",
              "      <td>6.954639</td>\n",
              "      <td>6.645091</td>\n",
              "      <td>30202938</td>\n",
              "      <td>2</td>\n",
              "      <td>0.0</td>\n",
              "    </tr>\n",
              "    <tr>\n",
              "      <th>2</th>\n",
              "      <td>2021-04-01</td>\n",
              "      <td>30153963.0</td>\n",
              "      <td>30</td>\n",
              "      <td>1</td>\n",
              "      <td>28</td>\n",
              "      <td>0.38</td>\n",
              "      <td>6.859615</td>\n",
              "      <td>628377</td>\n",
              "      <td>2021-01-01</td>\n",
              "      <td>6.469762</td>\n",
              "      <td>5.958683</td>\n",
              "      <td>30153963</td>\n",
              "      <td>1</td>\n",
              "      <td>-90.0</td>\n",
              "    </tr>\n",
              "    <tr>\n",
              "      <th>3</th>\n",
              "      <td>2021-04-01</td>\n",
              "      <td>30349574.0</td>\n",
              "      <td>32</td>\n",
              "      <td>1</td>\n",
              "      <td>59</td>\n",
              "      <td>2.30</td>\n",
              "      <td>7.183871</td>\n",
              "      <td>1668701718</td>\n",
              "      <td>2021-01-01</td>\n",
              "      <td>6.645091</td>\n",
              "      <td>5.315174</td>\n",
              "      <td>30349574</td>\n",
              "      <td>5</td>\n",
              "      <td>-90.0</td>\n",
              "    </tr>\n",
              "    <tr>\n",
              "      <th>4</th>\n",
              "      <td>2021-04-01</td>\n",
              "      <td>30211560.0</td>\n",
              "      <td>28</td>\n",
              "      <td>1</td>\n",
              "      <td>10</td>\n",
              "      <td>4.00</td>\n",
              "      <td>7.601402</td>\n",
              "      <td>640665</td>\n",
              "      <td>2021-03-01</td>\n",
              "      <td>6.359574</td>\n",
              "      <td>6.667593</td>\n",
              "      <td>30211560</td>\n",
              "      <td>2</td>\n",
              "      <td>-31.0</td>\n",
              "    </tr>\n",
              "  </tbody>\n",
              "</table>\n",
              "</div>"
            ],
            "text/plain": [
              "   item_date    customer  country  status  application  thickness     width  \\\n",
              "0 2021-04-01  30156308.0       28       1           10       2.00  7.313887   \n",
              "1 2021-04-01  30202938.0       25       1           41       0.80  7.099202   \n",
              "2 2021-04-01  30153963.0       30       1           28       0.38  6.859615   \n",
              "3 2021-04-01  30349574.0       32       1           59       2.30  7.183871   \n",
              "4 2021-04-01  30211560.0       28       1           10       4.00  7.601402   \n",
              "\n",
              "   product_ref delivery date  selling_price  quantity_tons  customer_id  \\\n",
              "0   1670798778    2021-07-01       6.751101       4.010963     30156308   \n",
              "1   1668701718    2021-04-01       6.954639       6.645091     30202938   \n",
              "2       628377    2021-01-01       6.469762       5.958683     30153963   \n",
              "3   1668701718    2021-01-01       6.645091       5.315174     30349574   \n",
              "4       640665    2021-03-01       6.359574       6.667593     30211560   \n",
              "\n",
              "   item_type  date_difference  \n",
              "0          2             91.0  \n",
              "1          2              0.0  \n",
              "2          1            -90.0  \n",
              "3          5            -90.0  \n",
              "4          2            -31.0  "
            ]
          },
          "execution_count": 49,
          "metadata": {},
          "output_type": "execute_result"
        }
      ],
      "source": [
        "df4.head()"
      ]
    },
    {
      "cell_type": "code",
      "execution_count": 50,
      "metadata": {
        "colab": {
          "base_uri": "https://localhost:8080/",
          "height": 634
        },
        "id": "9hfiYVu_9zPs",
        "outputId": "d25a9ffe-5da0-4f57-ecff-ddbf111b3288"
      },
      "outputs": [
        {
          "data": {
            "text/html": [
              "<div>\n",
              "<style scoped>\n",
              "    .dataframe tbody tr th:only-of-type {\n",
              "        vertical-align: middle;\n",
              "    }\n",
              "\n",
              "    .dataframe tbody tr th {\n",
              "        vertical-align: top;\n",
              "    }\n",
              "\n",
              "    .dataframe thead th {\n",
              "        text-align: right;\n",
              "    }\n",
              "</style>\n",
              "<table border=\"1\" class=\"dataframe\">\n",
              "  <thead>\n",
              "    <tr style=\"text-align: right;\">\n",
              "      <th></th>\n",
              "      <th>item_date</th>\n",
              "      <th>customer</th>\n",
              "      <th>country</th>\n",
              "      <th>status</th>\n",
              "      <th>application</th>\n",
              "      <th>thickness</th>\n",
              "      <th>width</th>\n",
              "      <th>product_ref</th>\n",
              "      <th>delivery date</th>\n",
              "      <th>selling_price</th>\n",
              "      <th>quantity_tons</th>\n",
              "      <th>customer_id</th>\n",
              "      <th>item_type</th>\n",
              "      <th>date_difference</th>\n",
              "    </tr>\n",
              "  </thead>\n",
              "  <tbody>\n",
              "    <tr>\n",
              "      <th>1</th>\n",
              "      <td>2021-04-01</td>\n",
              "      <td>30202938.0</td>\n",
              "      <td>25</td>\n",
              "      <td>1</td>\n",
              "      <td>41</td>\n",
              "      <td>0.80</td>\n",
              "      <td>7.099202</td>\n",
              "      <td>1668701718</td>\n",
              "      <td>2021-04-01</td>\n",
              "      <td>6.954639</td>\n",
              "      <td>6.645091</td>\n",
              "      <td>30202938</td>\n",
              "      <td>2</td>\n",
              "      <td>0.0</td>\n",
              "    </tr>\n",
              "    <tr>\n",
              "      <th>2</th>\n",
              "      <td>2021-04-01</td>\n",
              "      <td>30153963.0</td>\n",
              "      <td>30</td>\n",
              "      <td>1</td>\n",
              "      <td>28</td>\n",
              "      <td>0.38</td>\n",
              "      <td>6.859615</td>\n",
              "      <td>628377</td>\n",
              "      <td>2021-01-01</td>\n",
              "      <td>6.469762</td>\n",
              "      <td>5.958683</td>\n",
              "      <td>30153963</td>\n",
              "      <td>1</td>\n",
              "      <td>-90.0</td>\n",
              "    </tr>\n",
              "    <tr>\n",
              "      <th>3</th>\n",
              "      <td>2021-04-01</td>\n",
              "      <td>30349574.0</td>\n",
              "      <td>32</td>\n",
              "      <td>1</td>\n",
              "      <td>59</td>\n",
              "      <td>2.30</td>\n",
              "      <td>7.183871</td>\n",
              "      <td>1668701718</td>\n",
              "      <td>2021-01-01</td>\n",
              "      <td>6.645091</td>\n",
              "      <td>5.315174</td>\n",
              "      <td>30349574</td>\n",
              "      <td>5</td>\n",
              "      <td>-90.0</td>\n",
              "    </tr>\n",
              "    <tr>\n",
              "      <th>4</th>\n",
              "      <td>2021-04-01</td>\n",
              "      <td>30211560.0</td>\n",
              "      <td>28</td>\n",
              "      <td>1</td>\n",
              "      <td>10</td>\n",
              "      <td>4.00</td>\n",
              "      <td>7.601402</td>\n",
              "      <td>640665</td>\n",
              "      <td>2021-03-01</td>\n",
              "      <td>6.359574</td>\n",
              "      <td>6.667593</td>\n",
              "      <td>30211560</td>\n",
              "      <td>2</td>\n",
              "      <td>-31.0</td>\n",
              "    </tr>\n",
              "    <tr>\n",
              "      <th>5</th>\n",
              "      <td>2021-04-01</td>\n",
              "      <td>30202938.0</td>\n",
              "      <td>25</td>\n",
              "      <td>1</td>\n",
              "      <td>41</td>\n",
              "      <td>1.50</td>\n",
              "      <td>7.143618</td>\n",
              "      <td>1668701718</td>\n",
              "      <td>2021-04-01</td>\n",
              "      <td>6.891626</td>\n",
              "      <td>5.424069</td>\n",
              "      <td>30202938</td>\n",
              "      <td>2</td>\n",
              "      <td>0.0</td>\n",
              "    </tr>\n",
              "    <tr>\n",
              "      <th>...</th>\n",
              "      <td>...</td>\n",
              "      <td>...</td>\n",
              "      <td>...</td>\n",
              "      <td>...</td>\n",
              "      <td>...</td>\n",
              "      <td>...</td>\n",
              "      <td>...</td>\n",
              "      <td>...</td>\n",
              "      <td>...</td>\n",
              "      <td>...</td>\n",
              "      <td>...</td>\n",
              "      <td>...</td>\n",
              "      <td>...</td>\n",
              "      <td>...</td>\n",
              "    </tr>\n",
              "    <tr>\n",
              "      <th>181667</th>\n",
              "      <td>2020-07-02</td>\n",
              "      <td>30200854.0</td>\n",
              "      <td>25</td>\n",
              "      <td>1</td>\n",
              "      <td>41</td>\n",
              "      <td>0.96</td>\n",
              "      <td>7.123673</td>\n",
              "      <td>164141591</td>\n",
              "      <td>2020-07-01</td>\n",
              "      <td>6.401917</td>\n",
              "      <td>4.680278</td>\n",
              "      <td>30200854</td>\n",
              "      <td>2</td>\n",
              "      <td>-1.0</td>\n",
              "    </tr>\n",
              "    <tr>\n",
              "      <th>181668</th>\n",
              "      <td>2020-07-02</td>\n",
              "      <td>30200854.0</td>\n",
              "      <td>25</td>\n",
              "      <td>1</td>\n",
              "      <td>41</td>\n",
              "      <td>0.96</td>\n",
              "      <td>7.107425</td>\n",
              "      <td>164141591</td>\n",
              "      <td>2020-07-01</td>\n",
              "      <td>6.383507</td>\n",
              "      <td>4.639572</td>\n",
              "      <td>30200854</td>\n",
              "      <td>2</td>\n",
              "      <td>-1.0</td>\n",
              "    </tr>\n",
              "    <tr>\n",
              "      <th>181669</th>\n",
              "      <td>2020-07-02</td>\n",
              "      <td>30200854.0</td>\n",
              "      <td>25</td>\n",
              "      <td>1</td>\n",
              "      <td>41</td>\n",
              "      <td>0.95</td>\n",
              "      <td>7.313887</td>\n",
              "      <td>164141591</td>\n",
              "      <td>2020-07-01</td>\n",
              "      <td>6.380123</td>\n",
              "      <td>5.342813</td>\n",
              "      <td>30200854</td>\n",
              "      <td>2</td>\n",
              "      <td>-1.0</td>\n",
              "    </tr>\n",
              "    <tr>\n",
              "      <th>181670</th>\n",
              "      <td>2020-07-02</td>\n",
              "      <td>30200854.0</td>\n",
              "      <td>25</td>\n",
              "      <td>1</td>\n",
              "      <td>41</td>\n",
              "      <td>0.71</td>\n",
              "      <td>7.131699</td>\n",
              "      <td>164141591</td>\n",
              "      <td>2020-07-01</td>\n",
              "      <td>6.429719</td>\n",
              "      <td>1.648659</td>\n",
              "      <td>30200854</td>\n",
              "      <td>2</td>\n",
              "      <td>-1.0</td>\n",
              "    </tr>\n",
              "    <tr>\n",
              "      <th>181672</th>\n",
              "      <td>2020-07-02</td>\n",
              "      <td>30200854.0</td>\n",
              "      <td>25</td>\n",
              "      <td>1</td>\n",
              "      <td>41</td>\n",
              "      <td>0.71</td>\n",
              "      <td>7.123673</td>\n",
              "      <td>164141591</td>\n",
              "      <td>2020-07-01</td>\n",
              "      <td>6.410175</td>\n",
              "      <td>6.010532</td>\n",
              "      <td>30200854</td>\n",
              "      <td>2</td>\n",
              "      <td>-1.0</td>\n",
              "    </tr>\n",
              "  </tbody>\n",
              "</table>\n",
              "<p>21592 rows × 14 columns</p>\n",
              "</div>"
            ],
            "text/plain": [
              "        item_date    customer  country  status  application  thickness  \\\n",
              "1      2021-04-01  30202938.0       25       1           41       0.80   \n",
              "2      2021-04-01  30153963.0       30       1           28       0.38   \n",
              "3      2021-04-01  30349574.0       32       1           59       2.30   \n",
              "4      2021-04-01  30211560.0       28       1           10       4.00   \n",
              "5      2021-04-01  30202938.0       25       1           41       1.50   \n",
              "...           ...         ...      ...     ...          ...        ...   \n",
              "181667 2020-07-02  30200854.0       25       1           41       0.96   \n",
              "181668 2020-07-02  30200854.0       25       1           41       0.96   \n",
              "181669 2020-07-02  30200854.0       25       1           41       0.95   \n",
              "181670 2020-07-02  30200854.0       25       1           41       0.71   \n",
              "181672 2020-07-02  30200854.0       25       1           41       0.71   \n",
              "\n",
              "           width  product_ref delivery date  selling_price  quantity_tons  \\\n",
              "1       7.099202   1668701718    2021-04-01       6.954639       6.645091   \n",
              "2       6.859615       628377    2021-01-01       6.469762       5.958683   \n",
              "3       7.183871   1668701718    2021-01-01       6.645091       5.315174   \n",
              "4       7.601402       640665    2021-03-01       6.359574       6.667593   \n",
              "5       7.143618   1668701718    2021-04-01       6.891626       5.424069   \n",
              "...          ...          ...           ...            ...            ...   \n",
              "181667  7.123673    164141591    2020-07-01       6.401917       4.680278   \n",
              "181668  7.107425    164141591    2020-07-01       6.383507       4.639572   \n",
              "181669  7.313887    164141591    2020-07-01       6.380123       5.342813   \n",
              "181670  7.131699    164141591    2020-07-01       6.429719       1.648659   \n",
              "181672  7.123673    164141591    2020-07-01       6.410175       6.010532   \n",
              "\n",
              "        customer_id  item_type  date_difference  \n",
              "1          30202938          2              0.0  \n",
              "2          30153963          1            -90.0  \n",
              "3          30349574          5            -90.0  \n",
              "4          30211560          2            -31.0  \n",
              "5          30202938          2              0.0  \n",
              "...             ...        ...              ...  \n",
              "181667     30200854          2             -1.0  \n",
              "181668     30200854          2             -1.0  \n",
              "181669     30200854          2             -1.0  \n",
              "181670     30200854          2             -1.0  \n",
              "181672     30200854          2             -1.0  \n",
              "\n",
              "[21592 rows x 14 columns]"
            ]
          },
          "execution_count": 50,
          "metadata": {},
          "output_type": "execute_result"
        }
      ],
      "source": [
        "df4[df4.date_difference <=10]"
      ]
    },
    {
      "cell_type": "markdown",
      "metadata": {
        "id": "LTo_S2pC9-Ft"
      },
      "source": [
        "### there are so many date difference are negative so i set a threshold as 15 days"
      ]
    },
    {
      "cell_type": "code",
      "execution_count": 51,
      "metadata": {
        "id": "YdZG2RvEkckU"
      },
      "outputs": [],
      "source": [
        "df5=df4[df4.date_difference>15]"
      ]
    },
    {
      "cell_type": "code",
      "execution_count": 52,
      "metadata": {
        "colab": {
          "base_uri": "https://localhost:8080/"
        },
        "id": "mXqSB-SvgKgd",
        "outputId": "95850c4f-4de6-48f5-e155-330de1082d81"
      },
      "outputs": [
        {
          "data": {
            "text/plain": [
              "(130555, 14)"
            ]
          },
          "execution_count": 52,
          "metadata": {},
          "output_type": "execute_result"
        }
      ],
      "source": [
        "df5.shape"
      ]
    },
    {
      "cell_type": "code",
      "execution_count": 53,
      "metadata": {
        "colab": {
          "base_uri": "https://localhost:8080/",
          "height": 330
        },
        "id": "zJ8hS1a0_MIY",
        "outputId": "b746891c-9a57-4485-c983-e5ef3f3e9a08"
      },
      "outputs": [
        {
          "data": {
            "text/html": [
              "<div>\n",
              "<style scoped>\n",
              "    .dataframe tbody tr th:only-of-type {\n",
              "        vertical-align: middle;\n",
              "    }\n",
              "\n",
              "    .dataframe tbody tr th {\n",
              "        vertical-align: top;\n",
              "    }\n",
              "\n",
              "    .dataframe thead th {\n",
              "        text-align: right;\n",
              "    }\n",
              "</style>\n",
              "<table border=\"1\" class=\"dataframe\">\n",
              "  <thead>\n",
              "    <tr style=\"text-align: right;\">\n",
              "      <th></th>\n",
              "      <th>item_date</th>\n",
              "      <th>customer</th>\n",
              "      <th>country</th>\n",
              "      <th>status</th>\n",
              "      <th>application</th>\n",
              "      <th>thickness</th>\n",
              "      <th>width</th>\n",
              "      <th>product_ref</th>\n",
              "      <th>delivery date</th>\n",
              "      <th>selling_price</th>\n",
              "      <th>quantity_tons</th>\n",
              "      <th>customer_id</th>\n",
              "      <th>item_type</th>\n",
              "      <th>date_difference</th>\n",
              "    </tr>\n",
              "  </thead>\n",
              "  <tbody>\n",
              "    <tr>\n",
              "      <th>0</th>\n",
              "      <td>2021-04-01</td>\n",
              "      <td>30156308.0</td>\n",
              "      <td>28</td>\n",
              "      <td>1</td>\n",
              "      <td>10</td>\n",
              "      <td>2.00</td>\n",
              "      <td>7.313887</td>\n",
              "      <td>1670798778</td>\n",
              "      <td>2021-07-01</td>\n",
              "      <td>6.751101</td>\n",
              "      <td>4.010963</td>\n",
              "      <td>30156308</td>\n",
              "      <td>2</td>\n",
              "      <td>91.0</td>\n",
              "    </tr>\n",
              "    <tr>\n",
              "      <th>8</th>\n",
              "      <td>2021-04-01</td>\n",
              "      <td>30341428.0</td>\n",
              "      <td>38</td>\n",
              "      <td>1</td>\n",
              "      <td>10</td>\n",
              "      <td>0.60</td>\n",
              "      <td>7.151485</td>\n",
              "      <td>1668701376</td>\n",
              "      <td>2021-07-01</td>\n",
              "      <td>7.218177</td>\n",
              "      <td>4.249923</td>\n",
              "      <td>30341428</td>\n",
              "      <td>5</td>\n",
              "      <td>91.0</td>\n",
              "    </tr>\n",
              "    <tr>\n",
              "      <th>12</th>\n",
              "      <td>2021-04-01</td>\n",
              "      <td>30165529.0</td>\n",
              "      <td>78</td>\n",
              "      <td>1</td>\n",
              "      <td>10</td>\n",
              "      <td>0.75</td>\n",
              "      <td>7.131699</td>\n",
              "      <td>164141591</td>\n",
              "      <td>2021-07-01</td>\n",
              "      <td>7.002156</td>\n",
              "      <td>3.349904</td>\n",
              "      <td>30165529</td>\n",
              "      <td>2</td>\n",
              "      <td>91.0</td>\n",
              "    </tr>\n",
              "    <tr>\n",
              "      <th>13</th>\n",
              "      <td>2021-04-01</td>\n",
              "      <td>30202362.0</td>\n",
              "      <td>27</td>\n",
              "      <td>1</td>\n",
              "      <td>10</td>\n",
              "      <td>0.60</td>\n",
              "      <td>6.918695</td>\n",
              "      <td>628377</td>\n",
              "      <td>2021-07-01</td>\n",
              "      <td>6.881411</td>\n",
              "      <td>3.502550</td>\n",
              "      <td>30202362</td>\n",
              "      <td>5</td>\n",
              "      <td>91.0</td>\n",
              "    </tr>\n",
              "    <tr>\n",
              "      <th>14</th>\n",
              "      <td>2021-04-01</td>\n",
              "      <td>30271717.0</td>\n",
              "      <td>28</td>\n",
              "      <td>3</td>\n",
              "      <td>10</td>\n",
              "      <td>0.60</td>\n",
              "      <td>7.131699</td>\n",
              "      <td>611993</td>\n",
              "      <td>2021-07-01</td>\n",
              "      <td>7.138073</td>\n",
              "      <td>2.433613</td>\n",
              "      <td>30271717</td>\n",
              "      <td>2</td>\n",
              "      <td>91.0</td>\n",
              "    </tr>\n",
              "  </tbody>\n",
              "</table>\n",
              "</div>"
            ],
            "text/plain": [
              "    item_date    customer  country  status  application  thickness     width  \\\n",
              "0  2021-04-01  30156308.0       28       1           10       2.00  7.313887   \n",
              "8  2021-04-01  30341428.0       38       1           10       0.60  7.151485   \n",
              "12 2021-04-01  30165529.0       78       1           10       0.75  7.131699   \n",
              "13 2021-04-01  30202362.0       27       1           10       0.60  6.918695   \n",
              "14 2021-04-01  30271717.0       28       3           10       0.60  7.131699   \n",
              "\n",
              "    product_ref delivery date  selling_price  quantity_tons  customer_id  \\\n",
              "0    1670798778    2021-07-01       6.751101       4.010963     30156308   \n",
              "8    1668701376    2021-07-01       7.218177       4.249923     30341428   \n",
              "12    164141591    2021-07-01       7.002156       3.349904     30165529   \n",
              "13       628377    2021-07-01       6.881411       3.502550     30202362   \n",
              "14       611993    2021-07-01       7.138073       2.433613     30271717   \n",
              "\n",
              "    item_type  date_difference  \n",
              "0           2             91.0  \n",
              "8           5             91.0  \n",
              "12          2             91.0  \n",
              "13          5             91.0  \n",
              "14          2             91.0  "
            ]
          },
          "execution_count": 53,
          "metadata": {},
          "output_type": "execute_result"
        }
      ],
      "source": [
        "df5.head()"
      ]
    },
    {
      "cell_type": "code",
      "execution_count": 54,
      "metadata": {
        "id": "ZtUT1HCBgKge"
      },
      "outputs": [],
      "source": [
        "df5[\"order_date\"]=pd.to_datetime(df5[\"item_date\"],format=\"%Y%m%d\",errors=\"coerce\").dt.day\n",
        "df5[\"order_month\"]=pd.to_datetime(df5[\"item_date\"],format=\"%Y%m%d\",errors=\"coerce\").dt.month\n",
        "df5[\"order_year\"]=pd.to_datetime(df5[\"item_date\"],format=\"%Y%m%d\",errors=\"coerce\").dt.year"
      ]
    },
    {
      "cell_type": "code",
      "execution_count": 55,
      "metadata": {
        "id": "-xF8FwN0gKgf"
      },
      "outputs": [],
      "source": [
        "df5[\"delivery_date\"]=pd.to_datetime(df5[\"delivery date\"],format=\"%Y%m%d\",errors=\"coerce\").dt.day\n",
        "df5[\"delivery_month\"]=pd.to_datetime(df5[\"delivery date\"],format=\"%Y%m%d\",errors=\"coerce\").dt.month\n",
        "df5[\"delivery_year\"]=pd.to_datetime(df5[\"delivery date\"],format=\"%Y%m%d\",errors=\"coerce\").dt.year"
      ]
    },
    {
      "cell_type": "code",
      "execution_count": 56,
      "metadata": {
        "id": "YttKfEgWArbd"
      },
      "outputs": [],
      "source": [
        "df5=df5.drop([\"item_date\",\"customer\",\"delivery date\"],axis=1)"
      ]
    },
    {
      "cell_type": "code",
      "execution_count": 57,
      "metadata": {
        "colab": {
          "base_uri": "https://localhost:8080/",
          "height": 132
        },
        "id": "wXAC_Sxc-r64",
        "outputId": "f8b9600e-3733-41e6-8383-78fe1cc5beff"
      },
      "outputs": [
        {
          "data": {
            "text/html": [
              "<div>\n",
              "<style scoped>\n",
              "    .dataframe tbody tr th:only-of-type {\n",
              "        vertical-align: middle;\n",
              "    }\n",
              "\n",
              "    .dataframe tbody tr th {\n",
              "        vertical-align: top;\n",
              "    }\n",
              "\n",
              "    .dataframe thead th {\n",
              "        text-align: right;\n",
              "    }\n",
              "</style>\n",
              "<table border=\"1\" class=\"dataframe\">\n",
              "  <thead>\n",
              "    <tr style=\"text-align: right;\">\n",
              "      <th></th>\n",
              "      <th>country</th>\n",
              "      <th>status</th>\n",
              "      <th>application</th>\n",
              "      <th>thickness</th>\n",
              "      <th>width</th>\n",
              "      <th>product_ref</th>\n",
              "      <th>selling_price</th>\n",
              "      <th>quantity_tons</th>\n",
              "      <th>customer_id</th>\n",
              "      <th>item_type</th>\n",
              "      <th>date_difference</th>\n",
              "      <th>order_date</th>\n",
              "      <th>order_month</th>\n",
              "      <th>order_year</th>\n",
              "      <th>delivery_date</th>\n",
              "      <th>delivery_month</th>\n",
              "      <th>delivery_year</th>\n",
              "    </tr>\n",
              "  </thead>\n",
              "  <tbody>\n",
              "    <tr>\n",
              "      <th>0</th>\n",
              "      <td>28</td>\n",
              "      <td>1</td>\n",
              "      <td>10</td>\n",
              "      <td>2.0</td>\n",
              "      <td>7.313887</td>\n",
              "      <td>1670798778</td>\n",
              "      <td>6.751101</td>\n",
              "      <td>4.010963</td>\n",
              "      <td>30156308</td>\n",
              "      <td>2</td>\n",
              "      <td>91.0</td>\n",
              "      <td>1</td>\n",
              "      <td>4</td>\n",
              "      <td>2021</td>\n",
              "      <td>1</td>\n",
              "      <td>7</td>\n",
              "      <td>2021</td>\n",
              "    </tr>\n",
              "    <tr>\n",
              "      <th>8</th>\n",
              "      <td>38</td>\n",
              "      <td>1</td>\n",
              "      <td>10</td>\n",
              "      <td>0.6</td>\n",
              "      <td>7.151485</td>\n",
              "      <td>1668701376</td>\n",
              "      <td>7.218177</td>\n",
              "      <td>4.249923</td>\n",
              "      <td>30341428</td>\n",
              "      <td>5</td>\n",
              "      <td>91.0</td>\n",
              "      <td>1</td>\n",
              "      <td>4</td>\n",
              "      <td>2021</td>\n",
              "      <td>1</td>\n",
              "      <td>7</td>\n",
              "      <td>2021</td>\n",
              "    </tr>\n",
              "  </tbody>\n",
              "</table>\n",
              "</div>"
            ],
            "text/plain": [
              "   country  status  application  thickness     width  product_ref  \\\n",
              "0       28       1           10        2.0  7.313887   1670798778   \n",
              "8       38       1           10        0.6  7.151485   1668701376   \n",
              "\n",
              "   selling_price  quantity_tons  customer_id  item_type  date_difference  \\\n",
              "0       6.751101       4.010963     30156308          2             91.0   \n",
              "8       7.218177       4.249923     30341428          5             91.0   \n",
              "\n",
              "   order_date  order_month  order_year  delivery_date  delivery_month  \\\n",
              "0           1            4        2021              1               7   \n",
              "8           1            4        2021              1               7   \n",
              "\n",
              "   delivery_year  \n",
              "0           2021  \n",
              "8           2021  "
            ]
          },
          "execution_count": 57,
          "metadata": {},
          "output_type": "execute_result"
        }
      ],
      "source": [
        "df5.head(2)"
      ]
    },
    {
      "cell_type": "code",
      "execution_count": 58,
      "metadata": {
        "id": "p8RVncT0AIh7"
      },
      "outputs": [],
      "source": [
        "final_df=df5.copy()"
      ]
    },
    {
      "cell_type": "code",
      "execution_count": 59,
      "metadata": {
        "colab": {
          "base_uri": "https://localhost:8080/"
        },
        "id": "rUEJHQLhlGel",
        "outputId": "f0856d3e-b8d2-4e26-c65e-1ae31fb7d3d3"
      },
      "outputs": [
        {
          "data": {
            "text/plain": [
              "(130555, 17)"
            ]
          },
          "execution_count": 59,
          "metadata": {},
          "output_type": "execute_result"
        }
      ],
      "source": [
        "final_df.shape"
      ]
    },
    {
      "cell_type": "code",
      "execution_count": 130,
      "metadata": {
        "colab": {
          "base_uri": "https://localhost:8080/",
          "height": 226
        },
        "id": "o5-vbmOGp4xC",
        "outputId": "467bfa0d-fea6-40ab-e1c2-4b25ae81bbd1"
      },
      "outputs": [
        {
          "data": {
            "text/html": [
              "<div>\n",
              "<style scoped>\n",
              "    .dataframe tbody tr th:only-of-type {\n",
              "        vertical-align: middle;\n",
              "    }\n",
              "\n",
              "    .dataframe tbody tr th {\n",
              "        vertical-align: top;\n",
              "    }\n",
              "\n",
              "    .dataframe thead th {\n",
              "        text-align: right;\n",
              "    }\n",
              "</style>\n",
              "<table border=\"1\" class=\"dataframe\">\n",
              "  <thead>\n",
              "    <tr style=\"text-align: right;\">\n",
              "      <th></th>\n",
              "      <th>country</th>\n",
              "      <th>status</th>\n",
              "      <th>application</th>\n",
              "      <th>thickness</th>\n",
              "      <th>width</th>\n",
              "      <th>product_ref</th>\n",
              "      <th>selling_price</th>\n",
              "      <th>quantity_tons</th>\n",
              "      <th>customer_id</th>\n",
              "      <th>item_type</th>\n",
              "      <th>date_difference</th>\n",
              "      <th>order_date</th>\n",
              "      <th>order_month</th>\n",
              "      <th>order_year</th>\n",
              "      <th>delivery_date</th>\n",
              "      <th>delivery_month</th>\n",
              "      <th>delivery_year</th>\n",
              "    </tr>\n",
              "  </thead>\n",
              "  <tbody>\n",
              "    <tr>\n",
              "      <th>0</th>\n",
              "      <td>28</td>\n",
              "      <td>1</td>\n",
              "      <td>10</td>\n",
              "      <td>2.00</td>\n",
              "      <td>7.313887</td>\n",
              "      <td>1670798778</td>\n",
              "      <td>6.751101</td>\n",
              "      <td>4.010963</td>\n",
              "      <td>30156308</td>\n",
              "      <td>2</td>\n",
              "      <td>91.0</td>\n",
              "      <td>1</td>\n",
              "      <td>4</td>\n",
              "      <td>2021</td>\n",
              "      <td>1</td>\n",
              "      <td>7</td>\n",
              "      <td>2021</td>\n",
              "    </tr>\n",
              "    <tr>\n",
              "      <th>8</th>\n",
              "      <td>38</td>\n",
              "      <td>1</td>\n",
              "      <td>10</td>\n",
              "      <td>0.60</td>\n",
              "      <td>7.151485</td>\n",
              "      <td>1668701376</td>\n",
              "      <td>7.218177</td>\n",
              "      <td>4.249923</td>\n",
              "      <td>30341428</td>\n",
              "      <td>5</td>\n",
              "      <td>91.0</td>\n",
              "      <td>1</td>\n",
              "      <td>4</td>\n",
              "      <td>2021</td>\n",
              "      <td>1</td>\n",
              "      <td>7</td>\n",
              "      <td>2021</td>\n",
              "    </tr>\n",
              "    <tr>\n",
              "      <th>12</th>\n",
              "      <td>78</td>\n",
              "      <td>1</td>\n",
              "      <td>10</td>\n",
              "      <td>0.75</td>\n",
              "      <td>7.131699</td>\n",
              "      <td>164141591</td>\n",
              "      <td>7.002156</td>\n",
              "      <td>3.349904</td>\n",
              "      <td>30165529</td>\n",
              "      <td>2</td>\n",
              "      <td>91.0</td>\n",
              "      <td>1</td>\n",
              "      <td>4</td>\n",
              "      <td>2021</td>\n",
              "      <td>1</td>\n",
              "      <td>7</td>\n",
              "      <td>2021</td>\n",
              "    </tr>\n",
              "    <tr>\n",
              "      <th>13</th>\n",
              "      <td>27</td>\n",
              "      <td>1</td>\n",
              "      <td>10</td>\n",
              "      <td>0.60</td>\n",
              "      <td>6.918695</td>\n",
              "      <td>628377</td>\n",
              "      <td>6.881411</td>\n",
              "      <td>3.502550</td>\n",
              "      <td>30202362</td>\n",
              "      <td>5</td>\n",
              "      <td>91.0</td>\n",
              "      <td>1</td>\n",
              "      <td>4</td>\n",
              "      <td>2021</td>\n",
              "      <td>1</td>\n",
              "      <td>7</td>\n",
              "      <td>2021</td>\n",
              "    </tr>\n",
              "    <tr>\n",
              "      <th>14</th>\n",
              "      <td>28</td>\n",
              "      <td>3</td>\n",
              "      <td>10</td>\n",
              "      <td>0.60</td>\n",
              "      <td>7.131699</td>\n",
              "      <td>611993</td>\n",
              "      <td>7.138073</td>\n",
              "      <td>2.433613</td>\n",
              "      <td>30271717</td>\n",
              "      <td>2</td>\n",
              "      <td>91.0</td>\n",
              "      <td>1</td>\n",
              "      <td>4</td>\n",
              "      <td>2021</td>\n",
              "      <td>1</td>\n",
              "      <td>7</td>\n",
              "      <td>2021</td>\n",
              "    </tr>\n",
              "  </tbody>\n",
              "</table>\n",
              "</div>"
            ],
            "text/plain": [
              "    country  status  application  thickness     width  product_ref  \\\n",
              "0        28       1           10       2.00  7.313887   1670798778   \n",
              "8        38       1           10       0.60  7.151485   1668701376   \n",
              "12       78       1           10       0.75  7.131699    164141591   \n",
              "13       27       1           10       0.60  6.918695       628377   \n",
              "14       28       3           10       0.60  7.131699       611993   \n",
              "\n",
              "    selling_price  quantity_tons  customer_id  item_type  date_difference  \\\n",
              "0        6.751101       4.010963     30156308          2             91.0   \n",
              "8        7.218177       4.249923     30341428          5             91.0   \n",
              "12       7.002156       3.349904     30165529          2             91.0   \n",
              "13       6.881411       3.502550     30202362          5             91.0   \n",
              "14       7.138073       2.433613     30271717          2             91.0   \n",
              "\n",
              "    order_date  order_month  order_year  delivery_date  delivery_month  \\\n",
              "0            1            4        2021              1               7   \n",
              "8            1            4        2021              1               7   \n",
              "12           1            4        2021              1               7   \n",
              "13           1            4        2021              1               7   \n",
              "14           1            4        2021              1               7   \n",
              "\n",
              "    delivery_year  \n",
              "0            2021  \n",
              "8            2021  \n",
              "12           2021  \n",
              "13           2021  \n",
              "14           2021  "
            ]
          },
          "execution_count": 130,
          "metadata": {},
          "output_type": "execute_result"
        }
      ],
      "source": [
        "final_df.head()"
      ]
    },
    {
      "cell_type": "code",
      "execution_count": 61,
      "metadata": {
        "id": "7TWNjoBb04SI"
      },
      "outputs": [],
      "source": [
        "X=final_df.drop([\"selling_price\"],axis=1)\n",
        "y=final_df[\"selling_price\"]"
      ]
    },
    {
      "cell_type": "code",
      "execution_count": 129,
      "metadata": {
        "colab": {
          "base_uri": "https://localhost:8080/",
          "height": 75
        },
        "id": "9EPaa0Jx2z6A",
        "outputId": "7dc92401-e097-4ffa-a0ed-46e10313b048"
      },
      "outputs": [
        {
          "data": {
            "text/html": [
              "<style>#sk-container-id-2 {color: black;}#sk-container-id-2 pre{padding: 0;}#sk-container-id-2 div.sk-toggleable {background-color: white;}#sk-container-id-2 label.sk-toggleable__label {cursor: pointer;display: block;width: 100%;margin-bottom: 0;padding: 0.3em;box-sizing: border-box;text-align: center;}#sk-container-id-2 label.sk-toggleable__label-arrow:before {content: \"▸\";float: left;margin-right: 0.25em;color: #696969;}#sk-container-id-2 label.sk-toggleable__label-arrow:hover:before {color: black;}#sk-container-id-2 div.sk-estimator:hover label.sk-toggleable__label-arrow:before {color: black;}#sk-container-id-2 div.sk-toggleable__content {max-height: 0;max-width: 0;overflow: hidden;text-align: left;background-color: #f0f8ff;}#sk-container-id-2 div.sk-toggleable__content pre {margin: 0.2em;color: black;border-radius: 0.25em;background-color: #f0f8ff;}#sk-container-id-2 input.sk-toggleable__control:checked~div.sk-toggleable__content {max-height: 200px;max-width: 100%;overflow: auto;}#sk-container-id-2 input.sk-toggleable__control:checked~label.sk-toggleable__label-arrow:before {content: \"▾\";}#sk-container-id-2 div.sk-estimator input.sk-toggleable__control:checked~label.sk-toggleable__label {background-color: #d4ebff;}#sk-container-id-2 div.sk-label input.sk-toggleable__control:checked~label.sk-toggleable__label {background-color: #d4ebff;}#sk-container-id-2 input.sk-hidden--visually {border: 0;clip: rect(1px 1px 1px 1px);clip: rect(1px, 1px, 1px, 1px);height: 1px;margin: -1px;overflow: hidden;padding: 0;position: absolute;width: 1px;}#sk-container-id-2 div.sk-estimator {font-family: monospace;background-color: #f0f8ff;border: 1px dotted black;border-radius: 0.25em;box-sizing: border-box;margin-bottom: 0.5em;}#sk-container-id-2 div.sk-estimator:hover {background-color: #d4ebff;}#sk-container-id-2 div.sk-parallel-item::after {content: \"\";width: 100%;border-bottom: 1px solid gray;flex-grow: 1;}#sk-container-id-2 div.sk-label:hover label.sk-toggleable__label {background-color: #d4ebff;}#sk-container-id-2 div.sk-serial::before {content: \"\";position: absolute;border-left: 1px solid gray;box-sizing: border-box;top: 0;bottom: 0;left: 50%;z-index: 0;}#sk-container-id-2 div.sk-serial {display: flex;flex-direction: column;align-items: center;background-color: white;padding-right: 0.2em;padding-left: 0.2em;position: relative;}#sk-container-id-2 div.sk-item {position: relative;z-index: 1;}#sk-container-id-2 div.sk-parallel {display: flex;align-items: stretch;justify-content: center;background-color: white;position: relative;}#sk-container-id-2 div.sk-item::before, #sk-container-id-2 div.sk-parallel-item::before {content: \"\";position: absolute;border-left: 1px solid gray;box-sizing: border-box;top: 0;bottom: 0;left: 50%;z-index: -1;}#sk-container-id-2 div.sk-parallel-item {display: flex;flex-direction: column;z-index: 1;position: relative;background-color: white;}#sk-container-id-2 div.sk-parallel-item:first-child::after {align-self: flex-end;width: 50%;}#sk-container-id-2 div.sk-parallel-item:last-child::after {align-self: flex-start;width: 50%;}#sk-container-id-2 div.sk-parallel-item:only-child::after {width: 0;}#sk-container-id-2 div.sk-dashed-wrapped {border: 1px dashed gray;margin: 0 0.4em 0.5em 0.4em;box-sizing: border-box;padding-bottom: 0.4em;background-color: white;}#sk-container-id-2 div.sk-label label {font-family: monospace;font-weight: bold;display: inline-block;line-height: 1.2em;}#sk-container-id-2 div.sk-label-container {text-align: center;}#sk-container-id-2 div.sk-container {/* jupyter's `normalize.less` sets `[hidden] { display: none; }` but bootstrap.min.css set `[hidden] { display: none !important; }` so we also need the `!important` here to be able to override the default hidden behavior on the sphinx rendered scikit-learn.org. See: https://github.com/scikit-learn/scikit-learn/issues/21755 */display: inline-block !important;position: relative;}#sk-container-id-2 div.sk-text-repr-fallback {display: none;}</style><div id=\"sk-container-id-2\" class=\"sk-top-container\"><div class=\"sk-text-repr-fallback\"><pre>ExtraTreeRegressor()</pre><b>In a Jupyter environment, please rerun this cell to show the HTML representation or trust the notebook. <br />On GitHub, the HTML representation is unable to render, please try loading this page with nbviewer.org.</b></div><div class=\"sk-container\" hidden><div class=\"sk-item\"><div class=\"sk-estimator sk-toggleable\"><input class=\"sk-toggleable__control sk-hidden--visually\" id=\"sk-estimator-id-2\" type=\"checkbox\" checked><label for=\"sk-estimator-id-2\" class=\"sk-toggleable__label sk-toggleable__label-arrow\">ExtraTreeRegressor</label><div class=\"sk-toggleable__content\"><pre>ExtraTreeRegressor()</pre></div></div></div></div></div>"
            ],
            "text/plain": [
              "ExtraTreeRegressor()"
            ]
          },
          "execution_count": 129,
          "metadata": {},
          "output_type": "execute_result"
        }
      ],
      "source": [
        "from sklearn.tree import ExtraTreeRegressor\n",
        "ET_model=ExtraTreeRegressor()\n",
        "ET_model.fit(X,y)"
      ]
    },
    {
      "cell_type": "code",
      "execution_count": 128,
      "metadata": {
        "colab": {
          "base_uri": "https://localhost:8080/"
        },
        "id": "AM3Kty343BLY",
        "outputId": "16ad0a58-2783-4ef6-9dea-c3eeff389371"
      },
      "outputs": [
        {
          "data": {
            "text/plain": [
              "array([0.02897224, 0.01278484, 0.04403631, 0.2279571 , 0.01148245,\n",
              "       0.07551066, 0.01923973, 0.01705506, 0.0147344 , 0.0185072 ,\n",
              "       0.01839892, 0.02622708, 0.38188423, 0.        , 0.0371906 ,\n",
              "       0.06601915])"
            ]
          },
          "execution_count": 128,
          "metadata": {},
          "output_type": "execute_result"
        }
      ],
      "source": [
        "ET_model.feature_importances_"
      ]
    },
    {
      "cell_type": "code",
      "execution_count": 131,
      "metadata": {
        "id": "g0cIJF6UmKwC"
      },
      "outputs": [],
      "source": [
        "X_reg=final_df.drop([\"selling_price\",\"customer_id\"],axis=1)\n",
        "y_reg=final_df[\"selling_price\"]"
      ]
    },
    {
      "cell_type": "code",
      "execution_count": 132,
      "metadata": {
        "id": "Zyc8aZhzosUf"
      },
      "outputs": [],
      "source": [
        "from sklearn.model_selection import train_test_split\n",
        "X_train,X_test,y_train,y_test=train_test_split(X_reg,y_reg,test_size=0.2,random_state=42)"
      ]
    },
    {
      "cell_type": "code",
      "execution_count": 133,
      "metadata": {
        "colab": {
          "base_uri": "https://localhost:8080/"
        },
        "id": "KiG1Y7ljAYxS",
        "outputId": "9b4cf135-e807-4b63-feca-f06f2940a105"
      },
      "outputs": [
        {
          "data": {
            "text/plain": [
              "country              int32\n",
              "status               int64\n",
              "application          int32\n",
              "thickness          float64\n",
              "width              float64\n",
              "product_ref          int64\n",
              "selling_price      float64\n",
              "quantity_tons      float64\n",
              "customer_id          int32\n",
              "item_type            int64\n",
              "date_difference    float64\n",
              "order_date           int32\n",
              "order_month          int32\n",
              "order_year           int32\n",
              "delivery_date        int32\n",
              "delivery_month       int32\n",
              "delivery_year        int32\n",
              "dtype: object"
            ]
          },
          "execution_count": 133,
          "metadata": {},
          "output_type": "execute_result"
        }
      ],
      "source": [
        "final_df.dtypes"
      ]
    },
    {
      "cell_type": "code",
      "execution_count": 134,
      "metadata": {
        "id": "czZ4KCuSrbXu"
      },
      "outputs": [],
      "source": [
        "from sklearn.preprocessing import StandardScaler\n",
        "sc=StandardScaler()\n",
        "X_train_scaled=sc.fit_transform(X_train)\n",
        "X_test_scaled=sc.transform(X_test)"
      ]
    },
    {
      "cell_type": "code",
      "execution_count": 135,
      "metadata": {
        "colab": {
          "base_uri": "https://localhost:8080/"
        },
        "id": "xt9e1ET2oyBX",
        "outputId": "da36df39-d4e9-4a63-ee0e-988831218778"
      },
      "outputs": [
        {
          "name": "stdout",
          "output_type": "stream",
          "text": [
            "score for test data is : 0.668462055986214\n",
            "score for train data is : 0.6676169903806853\n",
            "MSE :  0.01816702367631235\n",
            "RMSE :  0.13478510183366837\n"
          ]
        }
      ],
      "source": [
        "from sklearn.linear_model import LinearRegression\n",
        "from sklearn.metrics import mean_squared_error, r2_score\n",
        "reg=LinearRegression()\n",
        "reg.fit(X_train_scaled,y_train)\n",
        "pred=reg.predict(X_test_scaled)\n",
        "print(\"score for test data is :\",reg.score(X_test_scaled,y_test))\n",
        "print(\"score for train data is :\",reg.score(X_train_scaled,y_train))\n",
        "print(\"MSE : \",mean_squared_error(y_test,pred))\n",
        "print(\"RMSE : \",np.sqrt(mean_squared_error(y_test,pred)))\n"
      ]
    },
    {
      "cell_type": "code",
      "execution_count": 136,
      "metadata": {
        "colab": {
          "base_uri": "https://localhost:8080/"
        },
        "id": "AFU32sIEBEaS",
        "outputId": "914feb6b-305a-42d1-aaa2-2d8c2c2c0f9f"
      },
      "outputs": [
        {
          "name": "stdout",
          "output_type": "stream",
          "text": [
            "score for test is : 0.9269553070517103\n",
            "score for train is : 0.9994036634531072\n",
            "MSE :  0.004002572526556319\n",
            "RMSE :  0.06326588754262694\n"
          ]
        }
      ],
      "source": [
        "from sklearn.tree import DecisionTreeRegressor\n",
        "from sklearn.model_selection import GridSearchCV\n",
        "tree_reg=DecisionTreeRegressor(random_state=42)\n",
        "tree_reg.fit(X_train,y_train)\n",
        "tree_pred=tree_reg.predict(X_test)\n",
        "print(\"score for test is :\",tree_reg.score(X_test,y_test))\n",
        "print(\"score for train is :\",tree_reg.score(X_train,y_train))\n",
        "print(\"MSE : \",mean_squared_error(y_test,tree_pred))\n",
        "print(\"RMSE : \",np.sqrt(mean_squared_error(y_test,tree_pred)))\n"
      ]
    },
    {
      "cell_type": "code",
      "execution_count": 137,
      "metadata": {
        "colab": {
          "base_uri": "https://localhost:8080/"
        },
        "id": "C-KjUhdsqh0n",
        "outputId": "ff76e944-5ace-459d-fe3c-4dde934f9007"
      },
      "outputs": [
        {
          "name": "stdout",
          "output_type": "stream",
          "text": [
            "score for test is : 0.9577215566396299\n",
            "score for train is : 0.9932614208428454\n",
            "MSE :  0.01816702367631235\n",
            "RMSE :  0.13478510183366837\n"
          ]
        }
      ],
      "source": [
        "from sklearn.ensemble import RandomForestRegressor\n",
        "from sklearn.model_selection import GridSearchCV\n",
        "\n",
        "random_reg=RandomForestRegressor(n_estimators=50,random_state=42)\n",
        "random_reg.fit(X_train,y_train)\n",
        "y_pred=random_reg.predict(X_test)\n",
        "print(\"score for test is :\",random_reg.score(X_test,y_test))\n",
        "print(\"score for train is :\",random_reg.score(X_train,y_train))\n",
        "print(\"MSE : \",mean_squared_error(y_test,pred))\n",
        "print(\"RMSE : \",np.sqrt(mean_squared_error(y_test,pred)))\n"
      ]
    },
    {
      "cell_type": "code",
      "execution_count": null,
      "metadata": {
        "id": "T2edZAN0gKgq"
      },
      "outputs": [],
      "source": [
        "#from sklearn.model_selection import cross_val_score\n",
        "#score=cross_val_score(random_reg, X_reg, y_reg, cv=5)\n",
        "#print(\"Score :\",np.mean(score))#"
      ]
    },
    {
      "cell_type": "code",
      "execution_count": 138,
      "metadata": {
        "id": "Ik5vRpLOsWqt"
      },
      "outputs": [],
      "source": [
        "import pickle\n",
        "\n",
        "with open(\"pickle/model.pkl\" ,\"wb\")as f:\n",
        "  pickle.dump(random_reg,f)\n",
        "\n",
        "with open(\"pickle/model.pkl\" ,\"rb\")as f:\n",
        "  model=pickle.load(f)"
      ]
    },
    {
      "cell_type": "code",
      "execution_count": null,
      "metadata": {
        "id": "XzT7cK28uJ_f"
      },
      "outputs": [],
      "source": [
        "#import pickle\n",
        "#with open(\"model.pkl\" ,\"wb\")as f:\n",
        "  #pickle.dump(random_reg,f)"
      ]
    },
    {
      "cell_type": "code",
      "execution_count": null,
      "metadata": {
        "id": "DYlzMkhUuY7O"
      },
      "outputs": [],
      "source": [
        "#with open(\"/content/drive/MyDrive/model.pkl\" ,\"wb\")as f:\n",
        "  #pickle.dump(random_reg,f)\n"
      ]
    },
    {
      "cell_type": "code",
      "execution_count": 76,
      "metadata": {
        "colab": {
          "base_uri": "https://localhost:8080/"
        },
        "id": "2pmgR7XHgKgs",
        "outputId": "6b00de45-21c1-46fc-c56e-1bddb2b85141"
      },
      "outputs": [
        {
          "data": {
            "text/plain": [
              "country            2.800000e+01\n",
              "status             1.000000e+00\n",
              "application        1.000000e+01\n",
              "thickness          2.000000e+00\n",
              "width              7.313887e+00\n",
              "product_ref        1.670799e+09\n",
              "quantity_tons      4.010963e+00\n",
              "customer_id        3.015631e+07\n",
              "item_type          2.000000e+00\n",
              "date_difference    9.100000e+01\n",
              "order_date         1.000000e+00\n",
              "order_month        4.000000e+00\n",
              "order_year         2.021000e+03\n",
              "delivery_date      1.000000e+00\n",
              "delivery_month     7.000000e+00\n",
              "delivery_year      2.021000e+03\n",
              "Name: 0, dtype: float64"
            ]
          },
          "execution_count": 76,
          "metadata": {},
          "output_type": "execute_result"
        }
      ],
      "source": [
        "X_reg.iloc[0]"
      ]
    },
    {
      "cell_type": "code",
      "execution_count": null,
      "metadata": {
        "colab": {
          "base_uri": "https://localhost:8080/"
        },
        "id": "G2n9LVLkjJLB",
        "outputId": "7304b269-227b-47b5-ce11-c131c19c228b"
      },
      "outputs": [
        {
          "data": {
            "text/plain": [
              "6.75110146893676"
            ]
          },
          "execution_count": 78,
          "metadata": {},
          "output_type": "execute_result"
        }
      ],
      "source": [
        "y_reg.iloc[0]"
      ]
    },
    {
      "cell_type": "code",
      "execution_count": 77,
      "metadata": {
        "colab": {
          "base_uri": "https://localhost:8080/"
        },
        "id": "kZU7U6EDjBG2",
        "outputId": "31dd9222-faff-4f6f-b81e-3e12fcb2fc50"
      },
      "outputs": [
        {
          "data": {
            "text/plain": [
              "6.887957173269652"
            ]
          },
          "execution_count": 77,
          "metadata": {},
          "output_type": "execute_result"
        }
      ],
      "source": [
        "prediction=random_reg.predict(X.iloc[0].values.reshape(1,-1))\n",
        "prediction[0]"
      ]
    },
    {
      "cell_type": "code",
      "execution_count": 140,
      "metadata": {
        "colab": {
          "base_uri": "https://localhost:8080/"
        },
        "id": "diz7dAdkD0Me",
        "outputId": "e242bfc3-48f0-4e9c-ad00-1d30ae7ccfea"
      },
      "outputs": [
        {
          "data": {
            "text/plain": [
              "858.0518652821229"
            ]
          },
          "execution_count": 140,
          "metadata": {},
          "output_type": "execute_result"
        }
      ],
      "source": [
        "country=float(28)\n",
        "status=float(1)\n",
        "item_type=float(2)\n",
        "application=float(10)\n",
        "width=np.log(float(1500.0)+1)\n",
        "product_ref=float(1670798778)\n",
        "quantity_tons=np.log(float(43.5)+1)\n",
        "thickness=float(2.0)\n",
        "date_difference=float(135)\n",
        "order_date=float(19)\n",
        "order_month=float(3)\n",
        "order_year=float(2021)\n",
        "delivery_date=float(1)\n",
        "delivery_month=float(8)\n",
        "delivery_year=float(2021)\n",
        "\n",
        "features=np.array([[country, status, application, thickness, width, product_ref,\n",
        "       quantity_tons, item_type, date_difference,\n",
        "       order_date, order_month, order_year,delivery_date,\n",
        "       delivery_month, delivery_year]])\n",
        "y_pred=model.predict(features)\n",
        "np.exp(y_pred[0])"
      ]
    },
    {
      "cell_type": "code",
      "execution_count": 79,
      "metadata": {
        "colab": {
          "base_uri": "https://localhost:8080/"
        },
        "id": "CbvKjjgoRijD",
        "outputId": "b47929e7-2463-45a9-c805-d804971ba186"
      },
      "outputs": [
        {
          "data": {
            "text/plain": [
              "Index(['country', 'status', 'application', 'thickness', 'width', 'product_ref',\n",
              "       'quantity_tons', 'customer_id', 'item_type', 'date_difference',\n",
              "       'order_date', 'order_month', 'order_year', 'delivery_date',\n",
              "       'delivery_month', 'delivery_year'],\n",
              "      dtype='object')"
            ]
          },
          "execution_count": 79,
          "metadata": {},
          "output_type": "execute_result"
        }
      ],
      "source": [
        "X_reg.columns"
      ]
    },
    {
      "cell_type": "code",
      "execution_count": 80,
      "metadata": {
        "colab": {
          "base_uri": "https://localhost:8080/"
        },
        "id": "Aur8-beejyAe",
        "outputId": "83093e9d-37b2-464d-e219-17a02a2c94d8"
      },
      "outputs": [
        {
          "data": {
            "text/plain": [
              "item_date        2021-03-19\n",
              "customer         30272262.0\n",
              "country                28.0\n",
              "status                  Won\n",
              "item type                 W\n",
              "application            10.0\n",
              "thickness               4.0\n",
              "width                1500.0\n",
              "product_ref      1670798778\n",
              "delivery date    2021-08-01\n",
              "selling_price         850.0\n",
              "quantity_tons          43.5\n",
              "Name: 10000, dtype: object"
            ]
          },
          "execution_count": 80,
          "metadata": {},
          "output_type": "execute_result"
        }
      ],
      "source": [
        "df1.iloc[10000]"
      ]
    },
    {
      "cell_type": "code",
      "execution_count": 81,
      "metadata": {
        "colab": {
          "base_uri": "https://localhost:8080/"
        },
        "id": "32Flnet-gKgv",
        "outputId": "2396e220-266b-41a4-de70-f225691c7c19"
      },
      "outputs": [
        {
          "data": {
            "text/plain": [
              "array([0.02460534, 0.00477899, 0.00659197, 0.02801788, 0.01017296,\n",
              "       0.37308156, 0.01920779, 0.01688185, 0.00316191, 0.01439807,\n",
              "       0.01315773, 0.3522764 , 0.0534203 , 0.        , 0.05179787,\n",
              "       0.02844938])"
            ]
          },
          "execution_count": 81,
          "metadata": {},
          "output_type": "execute_result"
        }
      ],
      "source": [
        "model.feature_importances_"
      ]
    },
    {
      "cell_type": "markdown",
      "metadata": {},
      "source": [
        "# classification model"
      ]
    },
    {
      "cell_type": "code",
      "execution_count": 82,
      "metadata": {
        "id": "qrUOuUJrwmXl"
      },
      "outputs": [],
      "source": [
        "X_class=final_df.drop([\"status\"],axis=1)\n",
        "y_class=final_df[\"status\"]"
      ]
    },
    {
      "cell_type": "code",
      "execution_count": 83,
      "metadata": {
        "id": "bWNc8DPagKgx"
      },
      "outputs": [],
      "source": [
        "from sklearn.model_selection import train_test_split\n",
        "X_train_class,X_test_class,y_train_class,y_test_class=train_test_split(X_class,y_class,test_size=0.2,random_state=0)"
      ]
    },
    {
      "cell_type": "code",
      "execution_count": 84,
      "metadata": {
        "colab": {
          "base_uri": "https://localhost:8080/"
        },
        "id": "nOpb0bThDCo9",
        "outputId": "71e81914-50ec-4ac2-ec5e-73772642b1c7"
      },
      "outputs": [
        {
          "data": {
            "text/plain": [
              "(130555, 16)"
            ]
          },
          "execution_count": 84,
          "metadata": {},
          "output_type": "execute_result"
        }
      ],
      "source": [
        "X_class.shape"
      ]
    },
    {
      "cell_type": "code",
      "execution_count": 85,
      "metadata": {
        "colab": {
          "base_uri": "https://localhost:8080/"
        },
        "id": "ZUL_twfGDUkn",
        "outputId": "0b78347e-0402-458c-efa5-e8377f19c575"
      },
      "outputs": [
        {
          "data": {
            "text/plain": [
              "(130555,)"
            ]
          },
          "execution_count": 85,
          "metadata": {},
          "output_type": "execute_result"
        }
      ],
      "source": [
        "y_class.shape"
      ]
    },
    {
      "cell_type": "code",
      "execution_count": 88,
      "metadata": {
        "id": "HnAwEHXKgKgz"
      },
      "outputs": [],
      "source": [
        "from sklearn.tree import DecisionTreeClassifier\n",
        "from sklearn.ensemble import RandomForestClassifier"
      ]
    },
    {
      "cell_type": "code",
      "execution_count": 89,
      "metadata": {
        "colab": {
          "base_uri": "https://localhost:8080/"
        },
        "id": "X5mpeD4ngKg0",
        "outputId": "c65e46ce-fa3a-4373-bb9b-c77493514c4a"
      },
      "outputs": [
        {
          "name": "stdout",
          "output_type": "stream",
          "text": [
            "score for test is : 1.0\n",
            "score for train is : 1.0\n",
            "accuracy : 0.9223315843897208\n",
            "confusion matrix :\n",
            " [[ 4872   378    20   114     2    42     0     0]\n",
            " [  418 15308    25   268     0   144     2     0]\n",
            " [   18    20   682    13     0     2     0     0]\n",
            " [   97   240    10  2775     0    22     0     0]\n",
            " [    0     0     0     0     0     0     0     0]\n",
            " [   50   126     0    16     0   434     0     0]\n",
            " [    1     0     0     0     0     0     8     0]\n",
            " [    0     0     0     0     0     0     0     4]]\n",
            "classification report :\n",
            "               precision    recall  f1-score   support\n",
            "\n",
            "           0       0.89      0.90      0.90      5428\n",
            "           1       0.95      0.95      0.95     16165\n",
            "           3       0.93      0.93      0.93       735\n",
            "           4       0.87      0.88      0.88      3144\n",
            "           5       0.00      0.00      0.00         0\n",
            "           6       0.67      0.69      0.68       626\n",
            "           7       0.80      0.89      0.84         9\n",
            "           8       1.00      1.00      1.00         4\n",
            "\n",
            "    accuracy                           0.92     26111\n",
            "   macro avg       0.76      0.78      0.77     26111\n",
            "weighted avg       0.92      0.92      0.92     26111\n",
            "\n"
          ]
        }
      ],
      "source": [
        "from sklearn.tree import DecisionTreeClassifier\n",
        "from sklearn.metrics import accuracy_score, confusion_matrix, classification_report\n",
        "tree_class=DecisionTreeClassifier(random_state=1000,criterion=\"entropy\",max_features=15)\n",
        "tree_class.fit(X_train_class,y_train_class)\n",
        "class_pred=tree_class.predict(X_test_class)\n",
        "print(\"score for test is :\",tree_class.score(X_test_class,class_pred))\n",
        "print(\"score for train is :\",tree_class.score(X_train_class,y_train_class))\n",
        "print(\"accuracy :\",accuracy_score(y_test_class,class_pred))\n",
        "print(\"confusion matrix :\\n\",confusion_matrix(y_test_class,class_pred))\n",
        "print(\"classification report :\\n\",classification_report(y_test_class,class_pred))"
      ]
    },
    {
      "cell_type": "code",
      "execution_count": 90,
      "metadata": {
        "colab": {
          "base_uri": "https://localhost:8080/"
        },
        "id": "P_Ggf0oxDwpJ",
        "outputId": "45b8c457-76aa-47ee-d071-95544775afca"
      },
      "outputs": [
        {
          "name": "stdout",
          "output_type": "stream",
          "text": [
            "score for test is : 1.0\n",
            "score for train is : 1.0\n",
            "accuracy : 0.9475316916242197\n",
            "confusion matrix :\n",
            " [[ 5134   233     7    42    12     0     0]\n",
            " [  292 15651     8   164    50     0     0]\n",
            " [   26    16   681    11     0     1     0]\n",
            " [   80   209     2  2850     3     0     0]\n",
            " [   49   148     1    14   414     0     0]\n",
            " [    1     0     0     0     0     8     0]\n",
            " [    1     0     0     0     0     0     3]]\n",
            "classification report :\n",
            "               precision    recall  f1-score   support\n",
            "\n",
            "           0       0.92      0.95      0.93      5428\n",
            "           1       0.96      0.97      0.97     16165\n",
            "           3       0.97      0.93      0.95       735\n",
            "           4       0.93      0.91      0.92      3144\n",
            "           6       0.86      0.66      0.75       626\n",
            "           7       0.89      0.89      0.89         9\n",
            "           8       1.00      0.75      0.86         4\n",
            "\n",
            "    accuracy                           0.95     26111\n",
            "   macro avg       0.93      0.86      0.89     26111\n",
            "weighted avg       0.95      0.95      0.95     26111\n",
            "\n"
          ]
        }
      ],
      "source": [
        "from sklearn.ensemble import RandomForestClassifier\n",
        "from sklearn.metrics import accuracy_score, confusion_matrix, classification_report, roc_curve, roc_auc_score\n",
        "random_class=RandomForestClassifier(random_state=42,n_estimators=400,criterion=\"entropy\",max_depth=50)\n",
        "random_class.fit(X_train_class,y_train_class)\n",
        "class_pred=random_class.predict(X_test_class)\n",
        "print(\"score for test is :\",random_class.score(X_test_class,class_pred))\n",
        "print(\"score for train is :\",random_class.score(X_train_class,y_train_class))\n",
        "print(\"accuracy :\",accuracy_score(y_test_class,class_pred))\n",
        "print(\"confusion matrix :\\n\",confusion_matrix(y_test_class,class_pred))\n",
        "print(\"classification report :\\n\",classification_report(y_test_class,class_pred))"
      ]
    },
    {
      "cell_type": "code",
      "execution_count": null,
      "metadata": {
        "colab": {
          "base_uri": "https://localhost:8080/"
        },
        "id": "BbGaIqlUEm0w",
        "outputId": "dd7126db-3cb9-475f-b97d-8818b5fa1e14"
      },
      "outputs": [
        {
          "name": "stdout",
          "output_type": "stream",
          "text": [
            "score for test is : 1.0\n",
            "score for train is : 0.6817337520585194\n",
            "accuracy : 0.685381639921872\n"
          ]
        }
      ],
      "source": [
        "from sklearn.ensemble import GradientBoostingClassifier\n",
        "GBC_class=GradientBoostingClassifier(n_estimators=50,learning_rate=0.05,random_state=20)\n",
        "GBC_class.fit(X_train_class,y_train_class)\n",
        "GBC_pred=GBC_class.predict(X_test_class)\n",
        "print(\"score for test is :\",GBC_class.score(X_test_class,GBC_pred))\n",
        "print(\"score for train is :\",GBC_class.score(X_train_class,y_train_class))\n",
        "print(\"accuracy :\",accuracy_score(y_test_class,GBC_pred))"
      ]
    },
    {
      "cell_type": "code",
      "execution_count": null,
      "metadata": {
        "id": "1snrJ2jIGpye"
      },
      "outputs": [],
      "source": [
        "#with open(\"/content/sample_data/class_model.pkl\" ,\"wb\")as f:\n",
        "  #pickle.dump(random_class,f)"
      ]
    },
    {
      "cell_type": "code",
      "execution_count": null,
      "metadata": {
        "id": "sQKgw4NQOHpD"
      },
      "outputs": [],
      "source": [
        "#with open(\"/content/sample_data/class_model.pkl\" ,\"rb\")as f:\n",
        "  #model1=pickle.load(f)"
      ]
    },
    {
      "cell_type": "markdown",
      "metadata": {},
      "source": [
        "### random forest and decision tree give high accuracy"
      ]
    },
    {
      "cell_type": "code",
      "execution_count": 91,
      "metadata": {},
      "outputs": [],
      "source": [
        "with open(\"pickle/class_model.pkl\" ,\"wb\")as f:\n",
        "  pickle.dump(random_class,f)"
      ]
    },
    {
      "cell_type": "code",
      "execution_count": null,
      "metadata": {
        "id": "l_7yGG6XA1y3"
      },
      "outputs": [],
      "source": [
        "#with open(\"/content/drive/MyDrive/class_model.pkl\" ,\"wb\")as f:\n",
        "#  pickle.dump(random_class,f)\n",
        "\n",
        "#with open(\"/content/drive/MyDrive/class_model.pkl\" ,\"rb\")as f:\n",
        "#  model1=pickle.load(f)"
      ]
    },
    {
      "cell_type": "code",
      "execution_count": 143,
      "metadata": {
        "colab": {
          "base_uri": "https://localhost:8080/"
        },
        "id": "UC8WSlZsOgYr",
        "outputId": "6b451cfa-d9a3-49b9-e2be-ad8917360760"
      },
      "outputs": [
        {
          "data": {
            "text/plain": [
              "1.0"
            ]
          },
          "execution_count": 143,
          "metadata": {},
          "output_type": "execute_result"
        }
      ],
      "source": [
        "customer_id=float(30197978)\n",
        "country=float(28)\n",
        "item_type=float(2)\n",
        "application=float(10)\n",
        "width=np.log(float(1000.0)+1)\n",
        "product_ref=float(1670798778)\n",
        "quantity_tons=np.log(float(125.1)+1)\n",
        "thickness=float(2.0)\n",
        "date_difference=float(135)\n",
        "order_date=float(31)\n",
        "order_month=float(3)\n",
        "order_year=float(2021)\n",
        "delivery_date=float(1)\n",
        "delivery_month=float(9)\n",
        "delivery_year=float(2021)\n",
        "selling_price=np.log(float(964.0)+1)\n",
        "\n",
        "features=np.array([[country, application, thickness, width, product_ref,\n",
        "       selling_price,quantity_tons, customer_id, item_type, date_difference,\n",
        "       order_date, order_month, order_year,delivery_date,\n",
        "       delivery_month, delivery_year]])\n",
        "y_pred=random_class.predict(features)\n",
        "np.exp(y_pred[0])"
      ]
    },
    {
      "cell_type": "code",
      "execution_count": null,
      "metadata": {
        "colab": {
          "base_uri": "https://localhost:8080/"
        },
        "id": "e6EfIJ3wOqzW",
        "outputId": "7ddbb9fd-7d6a-49fd-cd9b-af7c04fe10fe"
      },
      "outputs": [
        {
          "data": {
            "text/plain": [
              "item_date        2021-03-31\n",
              "customer         30197978.0\n",
              "country                28.0\n",
              "status                 Lost\n",
              "item type                 W\n",
              "application            10.0\n",
              "thickness               4.0\n",
              "width                1000.0\n",
              "product_ref      1670798778\n",
              "delivery date    2021-09-01\n",
              "selling_price         964.0\n",
              "quantity_tons         125.1\n",
              "Name: 1000, dtype: object"
            ]
          },
          "execution_count": 95,
          "metadata": {},
          "output_type": "execute_result"
        }
      ],
      "source": [
        "df1.iloc[1000]"
      ]
    },
    {
      "cell_type": "code",
      "execution_count": 92,
      "metadata": {
        "id": "sCQpUNCaPTLp"
      },
      "outputs": [
        {
          "data": {
            "text/plain": [
              "id               181671\n",
              "item_date           252\n",
              "quantity tons    181673\n",
              "customer           1169\n",
              "country              17\n",
              "status                9\n",
              "item type             7\n",
              "application          30\n",
              "thickness           594\n",
              "width              1386\n",
              "material_ref      16563\n",
              "product_ref          33\n",
              "delivery date        28\n",
              "selling_price      9795\n",
              "dtype: int64"
            ]
          },
          "execution_count": 92,
          "metadata": {},
          "output_type": "execute_result"
        }
      ],
      "source": [
        "df.nunique()"
      ]
    },
    {
      "cell_type": "code",
      "execution_count": 94,
      "metadata": {},
      "outputs": [
        {
          "data": {
            "text/plain": [
              "item_date        2021-04-01\n",
              "customer         30156308.0\n",
              "country                28.0\n",
              "status                  Won\n",
              "item type                 W\n",
              "application            10.0\n",
              "thickness               2.0\n",
              "width                1500.0\n",
              "product_ref      1670798778\n",
              "delivery date    2021-07-01\n",
              "selling_price         854.0\n",
              "quantity_tons          54.2\n",
              "Name: 0, dtype: object"
            ]
          },
          "execution_count": 94,
          "metadata": {},
          "output_type": "execute_result"
        }
      ],
      "source": [
        "df1.iloc[0]"
      ]
    },
    {
      "cell_type": "code",
      "execution_count": null,
      "metadata": {},
      "outputs": [],
      "source": []
    },
    {
      "cell_type": "code",
      "execution_count": 110,
      "metadata": {},
      "outputs": [
        {
          "data": {
            "text/plain": [
              "2500.0"
            ]
          },
          "execution_count": 110,
          "metadata": {},
          "output_type": "execute_result"
        }
      ],
      "source": [
        "df1.thickness.max()"
      ]
    },
    {
      "cell_type": "code",
      "execution_count": 116,
      "metadata": {},
      "outputs": [
        {
          "data": {
            "text/plain": [
              "611733"
            ]
          },
          "execution_count": 116,
          "metadata": {},
          "output_type": "execute_result"
        }
      ],
      "source": [
        "df4.product_ref.min()"
      ]
    },
    {
      "cell_type": "code",
      "execution_count": 117,
      "metadata": {},
      "outputs": [
        {
          "data": {
            "text/plain": [
              "1721130331"
            ]
          },
          "execution_count": 117,
          "metadata": {},
          "output_type": "execute_result"
        }
      ],
      "source": [
        "df4.product_ref.max()"
      ]
    },
    {
      "cell_type": "code",
      "execution_count": 118,
      "metadata": {},
      "outputs": [
        {
          "data": {
            "text/plain": [
              "2.0"
            ]
          },
          "execution_count": 118,
          "metadata": {},
          "output_type": "execute_result"
        }
      ],
      "source": [
        "df1.application.min()"
      ]
    },
    {
      "cell_type": "code",
      "execution_count": 119,
      "metadata": {},
      "outputs": [
        {
          "data": {
            "text/plain": [
              "99.0"
            ]
          },
          "execution_count": 119,
          "metadata": {},
          "output_type": "execute_result"
        }
      ],
      "source": [
        "df1.application.max()"
      ]
    },
    {
      "cell_type": "code",
      "execution_count": 141,
      "metadata": {},
      "outputs": [
        {
          "data": {
            "text/plain": [
              "array([1670798778, 1668701718,     628377,     640665,     611993,\n",
              "       1668701376,  164141591, 1671863738, 1332077137,     640405,\n",
              "       1693867550, 1665572374, 1282007633, 1668701698,     628117,\n",
              "       1690738206,     628112,     640400, 1671876026,  164336407,\n",
              "        164337175, 1668701725, 1665572032,     611728, 1721130331,\n",
              "       1693867563,     611733, 1690738219, 1722207579,  929423819,\n",
              "       1665584320, 1665584662, 1665584642], dtype=int64)"
            ]
          },
          "execution_count": 141,
          "metadata": {},
          "output_type": "execute_result"
        }
      ],
      "source": [
        "df1.product_ref.unique()"
      ]
    },
    {
      "cell_type": "code",
      "execution_count": null,
      "metadata": {},
      "outputs": [],
      "source": []
    }
  ],
  "metadata": {
    "colab": {
      "provenance": []
    },
    "kernelspec": {
      "display_name": "Python 3",
      "name": "python3"
    },
    "language_info": {
      "codemirror_mode": {
        "name": "ipython",
        "version": 3
      },
      "file_extension": ".py",
      "mimetype": "text/x-python",
      "name": "python",
      "nbconvert_exporter": "python",
      "pygments_lexer": "ipython3",
      "version": "3.11.5"
    }
  },
  "nbformat": 4,
  "nbformat_minor": 0
}
